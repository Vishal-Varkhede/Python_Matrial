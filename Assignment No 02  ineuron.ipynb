{
 "cells": [
  {
   "cell_type": "markdown",
   "id": "74d62d54",
   "metadata": {},
   "source": [
    "***\n",
    "## <p style=\"text-align:center\">  Assignment no 2:\n",
    "***"
   ]
  },
  {
   "cell_type": "markdown",
   "id": "cec57c2a",
   "metadata": {},
   "source": [
    "Q26. What is a string? How can we declare string in Python?\n",
    "\n",
    "Q27. How can we access the string using its index?\n",
    "\n",
    "Q28. Write a code to get the desired output of the following\n",
    "\n",
    "    string = \"Big Data iNeuron\"\n",
    "    desired_output = \"iNeuron\"\n",
    "\n",
    "Q29. Write a code to get the desired output of the following\n",
    "\n",
    "    string = \"Big Data iNeuron\"\n",
    "    desired_output = \"norueNi\"\n",
    "\n",
    "\n",
    "Q30. Resverse the string given in the above question.\n",
    "\n",
    "Q31. How can you delete entire string at once?\n",
    "\n",
    "Q32. What is escape sequence?\n",
    "\n",
    "Q33. How can you print the below string?\n",
    "\n",
    "    'iNeuron's Big Data Course'\n",
    "\n",
    "Q34. What is a list in Python?\n",
    "\n",
    "Q35. How can you create a list in Python?\n",
    "\n",
    "Q36. How can we access the elements in a list?\n",
    "\n",
    "Q37. Write a code to access the word \"iNeuron\" from the given list.\n",
    "\n",
    "    lst = [1,2,3,\"Hi\",[45,54, \"iNeuron\"], \"Big Data\"]\n",
    "\n",
    "Q38. Take a list as an input from the user and find the length of the list.\n",
    "\n",
    "Q39. Add the word \"Big\" in the 3rd index of the given list.\n",
    "\n",
    "    lst = [\"Welcome\", \"to\", \"Data\", \"course\"]\n",
    "\n",
    "Q40. What is a tuple? How is it different from list?\n",
    "\n",
    "Q41. How can you create a tuple in Python?\n",
    "\n",
    "Q42. Create a tuple and try to add your name in the tuple. Are you able to do it? Support your answer with reason.\n",
    "\n",
    "Q43. Can two tuple be appended. If yes, write a code for it. If not, why?\n",
    "\n",
    "Q44. Take a tuple as an input and print the count of elements in it.\n",
    "\n",
    "Q45. What are sets in Python?\n",
    "\n",
    "Q46. How can you create a set?\n",
    "\n",
    "Q47. Create a set and add \"iNeuron\" in your set.\n",
    "\n",
    "Q48. Try to add multiple values using add() function.\n",
    "\n",
    "Q49. How is update() different from add()?\n",
    "\n",
    "Q50. What is clear() in sets?\n",
    "\n",
    "Q51. What is frozen set?\n",
    "\n",
    "Q52. How is frozen set different from set?\n",
    "\n",
    "Q53. What is union() in sets? Explain via code.\n",
    "\n",
    "Q54. What is intersection() in sets? Explain via code.\n",
    "\n",
    "Q55. What is dictionary ibn Python?\n",
    "\n",
    "Q56. How is dictionary different from all other data structures.\n",
    "\n",
    "Q57. How can we delare a dictionary in Python?\n",
    "\n",
    "Q58. What will the output of the following?\n",
    "\n",
    "    var = {}\n",
    "    print(type(var))\n",
    "\n",
    "Q59. How can we add an element in a dictionary?\n",
    "\n",
    "Q60. Create a dictionary and access all the values in that dictionary.\n",
    "\n",
    "Q61. Create a nested dictionary and access all the element in the inner dictionary.\n",
    "\n",
    "Q62. What is the use of get() function?\n",
    "\n",
    "Q63. What is the use of items() function?\n",
    "\n",
    "Q64. What is the use of pop() function?\n",
    "\n",
    "Q65. What is the use of popitems() function?\n",
    "\n",
    "Q66. What is the use of keys() function?\n",
    "\n",
    "Q67. What is the use of values() function?\n",
    "\n",
    "Q68. What are loops in Python?\n",
    "\n",
    "Q69. How many type of loop are there in Python?\n",
    "\n",
    "Q70. What is the difference between for and while loops?\n",
    "\n",
    "Q71. What is the use of continue statement?\n",
    "\n",
    "Q72. What is the use of break statement?\n",
    "\n",
    "Q73. What is the use of pass statement?\n",
    "\n",
    "Q74. What is the use of range() function?\n",
    "\n",
    "Q75. How can you loop over a dictionary?\n",
    "\n",
    "\n",
    "### Coding problems\n",
    "Q76. Write a Python program to find the factorial of a given number.\n",
    "\n",
    "Q77. Write a Python program to calculate the simple interest. Formula to calculate simple interest is SI = (P*R*T)/100\n",
    "\n",
    "Q78. Write a Python program to calculate the compound interest. Formula of compound interest is A = P(1+ R/100)^t.\n",
    "\n",
    "Q79. Write a Python program to check if a number is prime or not.\n",
    "\n",
    "Q80. Write a Python program to check Armstrong Number.\n",
    "\n",
    "Q81. Write a Python program to find the n-th Fibonacci Number.\n",
    "\n",
    "Q82. Write a Python program to interchange the first and last element in a list.\n",
    "\n",
    "Q83. Write a Python program to swap two elements in a list.\n",
    "\n",
    "Q84. Write a Python program to find N largest element from a list.\n",
    "\n",
    "Q85. Write a Python program to find cumulative sum of a list.\n",
    "\n",
    "Q86. Write a Python program to check if a string is palindrome or not.\n",
    "\n",
    "Q87. Write a Python program to remove i'th element from a string.\n",
    "\n",
    "Q88. Write a Python program to check if a substring is present in a given string.\n",
    "\n",
    "Q89. Write a Python program to find words which are greater than given length k.\n",
    "\n",
    "Q90. Write a Python program to extract unquire dictionary values.\n",
    "\n",
    "Q91. Write a Python program to merge two dictionary.\n",
    "\n",
    "Q92. Write a Python program to convert a list of tuples into dictionary.\n",
    "```\n",
    "Input : [('Sachin', 10), ('MSD', 7), ('Kohli', 18), ('Rohit', 45)]\n",
    "Output : {'Sachin': 10, 'MSD': 7, 'Kohli': 18, 'Rohit': 45}\n",
    "```\n",
    "\n",
    "Q93. Write a Python program to create a list of tuples from given list having number and its cube in each tuple.\n",
    "```\n",
    "Input: list = [9, 5, 6]\n",
    "Output: [(9, 729), (5, 125), (6, 216)]\n",
    "```\n",
    "\n",
    "Q94. Write a Python program to get all combinations of 2 tuples.\n",
    "```\n",
    "Input : test_tuple1 = (7, 2), test_tuple2 = (7, 8)\n",
    "Output : [(7, 7), (7, 8), (2, 7), (2, 8), (7, 7), (7, 2), (8, 7), (8, 2)]\n",
    "```\n",
    "\n",
    "Q95. Write a Python program to sort a list of tuples by second item.\n",
    "```\n",
    "Input : [('for', 24), ('Geeks', 8), ('Geeks', 30)]\n",
    "Output : [('Geeks', 8), ('for', 24), ('Geeks', 30)]\n",
    "```\n",
    "\n",
    "Q96. Write a python program to print below pattern.\n",
    "```\n",
    "*\n",
    "* *\n",
    "* * *\n",
    "* * * *\n",
    "* * * * *\n",
    "```\n",
    "Q97. Write a python program to print below pattern.\n",
    "```\n",
    "    *\n",
    "   **\n",
    "  ***\n",
    " ****\n",
    "*****\n",
    "```\n",
    "\n",
    "Q98. Write a python program to print below pattern.\n",
    "```\n",
    "    *\n",
    "   * *\n",
    "  * * *\n",
    " * * * *\n",
    "* * * * *\n",
    "```\n",
    "\n",
    "Q99. Write a python program to print below pattern.\n",
    "```\n",
    "1\n",
    "1 2\n",
    "1 2 3\n",
    "1 2 3 4\n",
    "1 2 3 4 5\n",
    "```\n",
    "\n",
    "Q100. Write a python program to print below pattern.\n",
    "```\n",
    "A\n",
    "B B\n",
    "C C C\n",
    "D D D D\n",
    "E E E E E\n",
    "```\n"
   ]
  },
  {
   "cell_type": "markdown",
   "id": "8b9c6097",
   "metadata": {},
   "source": [
    "# ---------------------------------------------------------------------------------------------------------------"
   ]
  },
  {
   "cell_type": "markdown",
   "id": "a3dcc622",
   "metadata": {},
   "source": [
    "#####  Q26: What is a string? How can we declare string in Python?\n",
    "###### ANS :\n",
    " * A string is a sequence of characters.\n",
    "\n",
    "    Strings can be created by enclosing characters inside a single quote or double-quotes. Ex;\n",
    "    my_string = \"Hello\" print(my_string)\n",
    "\n",
    "    my_string = '''Hello'''\n",
    "    print(my_string)\n"
   ]
  },
  {
   "cell_type": "markdown",
   "id": "efe0f970",
   "metadata": {},
   "source": [
    "#####  Q27: How can we access the string using its index? \n",
    "###### ANS :\n",
    " * String is a list of charecters thus it can be accessed using index.\n",
    "\n",
    "    Ex;"
   ]
  },
  {
   "cell_type": "code",
   "execution_count": 38,
   "id": "35479492",
   "metadata": {},
   "outputs": [
    {
     "name": "stdout",
     "output_type": "stream",
     "text": [
      "o\n"
     ]
    }
   ],
   "source": [
    "my_string = \"Hello\" \n",
    "print(my_string[4])"
   ]
  },
  {
   "cell_type": "code",
   "execution_count": 39,
   "id": "c16d8624",
   "metadata": {},
   "outputs": [
    {
     "name": "stdout",
     "output_type": "stream",
     "text": [
      "H\n",
      "e\n",
      "l\n",
      "l\n",
      "o\n"
     ]
    }
   ],
   "source": [
    "for c in my_string:\n",
    "        print(c)"
   ]
  },
  {
   "cell_type": "markdown",
   "id": "43bf52a7",
   "metadata": {},
   "source": [
    "#####  Q28. Write a code to get the desired output of the following?\n",
    "\n",
    "    string = \"Big Data iNeuron\"\n",
    "    desired_output = \"iNeuron\"\n",
    "###### ANS : "
   ]
  },
  {
   "cell_type": "code",
   "execution_count": 49,
   "id": "8760ec69",
   "metadata": {},
   "outputs": [
    {
     "name": "stdout",
     "output_type": "stream",
     "text": [
      "iNeuron\n"
     ]
    }
   ],
   "source": [
    "my_string = \"Big Data iNeuron\"\n",
    "\n",
    "desired_output = my_string.split(\" \")[2]\n",
    "\n",
    "print(desired_output)"
   ]
  },
  {
   "cell_type": "markdown",
   "id": "4627b0be",
   "metadata": {},
   "source": [
    "##### Q29. Write a code to get the desired output of the following\n",
    "    string = \"Big Data iNeuron\"\n",
    "    desired_output = \"norueNi\"\n",
    "###### ANS : "
   ]
  },
  {
   "cell_type": "code",
   "execution_count": 16,
   "id": "898fbf96",
   "metadata": {},
   "outputs": [
    {
     "name": "stdout",
     "output_type": "stream",
     "text": [
      "norueNi\n"
     ]
    }
   ],
   "source": [
    "my_string = \"Big Data iNeuron\"\n",
    "\n",
    "my_output = my_string.split(\" \")[2]\n",
    "\n",
    "print(my_output[-1: :-1])"
   ]
  },
  {
   "cell_type": "markdown",
   "id": "f59717b5",
   "metadata": {},
   "source": [
    "##### Q30. Resverse the string given in the above question.\n",
    "\n",
    "###### ANS : \n"
   ]
  },
  {
   "cell_type": "code",
   "execution_count": 4,
   "id": "0ef9fd55",
   "metadata": {},
   "outputs": [
    {
     "name": "stdout",
     "output_type": "stream",
     "text": [
      "norueNi ataD giB\n"
     ]
    }
   ],
   "source": [
    "my_string = \"Big Data iNeuron\"\n",
    "\n",
    "print(my_string[-1: :-1])"
   ]
  },
  {
   "cell_type": "markdown",
   "id": "1ab99bd5",
   "metadata": {},
   "source": [
    "##### Q31. How can you delete entire string at once?\n",
    "###### ANS : \n",
    "\n",
    "    Whole string can be deleted using del statement:\n",
    "    \n",
    "    aString = \"123\" \n",
    "    del aString\n",
    "    print(aString)"
   ]
  },
  {
   "cell_type": "markdown",
   "id": "798f671a",
   "metadata": {},
   "source": [
    "##### Q32. What is escape sequence?\n",
    "###### ANS : \n",
    "\n",
    "   * Escape sequences allow you to include special characters in strings.\n",
    "\n",
    "   * A backslash () before the character or including everything in triple quotes() can be used to get this. "
   ]
  },
  {
   "cell_type": "markdown",
   "id": "9746bdf7",
   "metadata": {},
   "source": [
    "    EX:\n",
    "    s = 'Hey, what's up?' \n",
    "    print(s)\n",
    "\n",
    "    This gives an error saying \"SyntaxError: invalid syntax\" for the aphostrophe in \"what's'\n",
    "\n",
    "    This can be avoided using ecape charecter;"
   ]
  },
  {
   "cell_type": "code",
   "execution_count": 93,
   "id": "218275d7",
   "metadata": {},
   "outputs": [
    {
     "name": "stdout",
     "output_type": "stream",
     "text": [
      " Hey, what's up? \n"
     ]
    }
   ],
   "source": [
    "s= ''' Hey, what's up? '''\n",
    "print(s)"
   ]
  },
  {
   "cell_type": "markdown",
   "id": "a7f95be0",
   "metadata": {},
   "source": [
    "##### Q33. How can you print the below string?\n",
    "\n",
    "    'iNeuron's Big Data Course'\n",
    "    \n",
    "###### ANS : "
   ]
  },
  {
   "cell_type": "code",
   "execution_count": 95,
   "id": "ee5acbce",
   "metadata": {},
   "outputs": [
    {
     "name": "stdout",
     "output_type": "stream",
     "text": [
      " 'iNeuron's Big Data Course' \n"
     ]
    }
   ],
   "source": [
    "my_string = ''' 'iNeuron's Big Data Course' '''\n",
    "print(my_string)"
   ]
  },
  {
   "cell_type": "code",
   "execution_count": 101,
   "id": "3ea875b4",
   "metadata": {},
   "outputs": [
    {
     "name": "stdout",
     "output_type": "stream",
     "text": [
      "'iNeuron's Big Data Course'\n"
     ]
    }
   ],
   "source": [
    "print('\\'iNeuron\\'s Big Data Course\\'')"
   ]
  },
  {
   "cell_type": "markdown",
   "id": "ac969cd5",
   "metadata": {},
   "source": [
    "##### Q34. What is a list in Python?\n",
    "###### ANS : \n",
    "\n",
    "* List is a sequentiel datatype that can save heterogenous data i.e. elements with different datatypes. \n",
    "* All the elements are saved in contiguous memory locations.\n",
    "* List is represented by squared brackets []"
   ]
  },
  {
   "cell_type": "code",
   "execution_count": 102,
   "id": "04642509",
   "metadata": {},
   "outputs": [
    {
     "name": "stdout",
     "output_type": "stream",
     "text": [
      "[1, 2, 3, 'my_val', True]\n"
     ]
    }
   ],
   "source": [
    "my_list = [1, 2, 3, \"my_val\", True] \n",
    "print(my_list)"
   ]
  },
  {
   "cell_type": "markdown",
   "id": "941a0e58",
   "metadata": {},
   "source": [
    "##### Q35. How can you create a list in Python?\n",
    "###### ANS : \n",
    "\n",
    "* List is created by adding the list values inside squared bracket representation."
   ]
  },
  {
   "cell_type": "code",
   "execution_count": 103,
   "id": "a4e418a4",
   "metadata": {},
   "outputs": [
    {
     "name": "stdout",
     "output_type": "stream",
     "text": [
      "[1, 2, 3, 'vishal', True]\n"
     ]
    }
   ],
   "source": [
    "my_list2 = [1, 2, 3, \"vishal\", True] \n",
    "print(my_list2)"
   ]
  },
  {
   "cell_type": "markdown",
   "id": "5d2dae4a",
   "metadata": {},
   "source": [
    "##### Q36. How can we access the elements in a list?\n",
    "###### ANS : \n",
    "\n",
    "* List elements can be accessed using index starting with 0"
   ]
  },
  {
   "cell_type": "code",
   "execution_count": 104,
   "id": "cb6a7d4b",
   "metadata": {},
   "outputs": [
    {
     "name": "stdout",
     "output_type": "stream",
     "text": [
      "my_val\n"
     ]
    }
   ],
   "source": [
    "my_list2 = [1, 2, 3, \"my_val\", True] \n",
    "print(my_list2[3]) "
   ]
  },
  {
   "cell_type": "markdown",
   "id": "fdf5b8fe",
   "metadata": {},
   "source": [
    "##### Q37. Write a code to access the word \"iNeuron\" from the given list.\n",
    "\n",
    "     lst = [1,2,3,\"Hi\",[45,54, \"iNeuron\"], \"Big Data\"]\n",
    "###### ANS : "
   ]
  },
  {
   "cell_type": "code",
   "execution_count": 108,
   "id": "b7ed0563",
   "metadata": {},
   "outputs": [
    {
     "name": "stdout",
     "output_type": "stream",
     "text": [
      "iNeuron\n"
     ]
    }
   ],
   "source": [
    "lst = [1,2,3,\"Hi\",[45,54, \"iNeuron\"], \"Big Data\"]\n",
    "\n",
    "print(lst[4][2])"
   ]
  },
  {
   "cell_type": "markdown",
   "id": "ec98a257",
   "metadata": {},
   "source": [
    "##### Q38. Take a list as an input from the user and find the length of the list.\n",
    "###### ANS : \n"
   ]
  },
  {
   "cell_type": "code",
   "execution_count": 28,
   "id": "f2e38d93",
   "metadata": {},
   "outputs": [
    {
     "name": "stdout",
     "output_type": "stream",
     "text": [
      "Enter List values: 1 2 7 8 9 11\n",
      "6\n"
     ]
    }
   ],
   "source": [
    "my_lst = [x for x in input(\"Enter List values: \").split()]\n",
    "\n",
    "print(len(my_lst))"
   ]
  },
  {
   "cell_type": "markdown",
   "id": "e212d585",
   "metadata": {},
   "source": [
    "##### Q39. Add the word \"Big\" in the 3rd index of the given list.\n",
    "\n",
    "        lst = [\"Welcome\", \"to\", \"Data\", \"course\"]\n",
    "###### ANS :  In below both ways we can achieve this \n"
   ]
  },
  {
   "cell_type": "code",
   "execution_count": 29,
   "id": "d857321a",
   "metadata": {},
   "outputs": [
    {
     "name": "stdout",
     "output_type": "stream",
     "text": [
      "['Welcome', 'to', 'Big Data', 'course']\n"
     ]
    }
   ],
   "source": [
    "lst = [\"Welcome\", \"to\", \"Data\", \"course\"]\n",
    "\n",
    "lst[2] = \"Big \" + lst[2]\n",
    "\n",
    "print(lst)"
   ]
  },
  {
   "cell_type": "code",
   "execution_count": 31,
   "id": "6ca096fb",
   "metadata": {},
   "outputs": [
    {
     "name": "stdout",
     "output_type": "stream",
     "text": [
      "['Welcome', 'to', 'Big', 'Data', 'course']\n"
     ]
    }
   ],
   "source": [
    "lst = [\"Welcome\", \"to\", \"Data\", \"course\"]\n",
    "lst.insert(2,\"Big\")\n",
    "print(lst)"
   ]
  },
  {
   "cell_type": "markdown",
   "id": "4f47647a",
   "metadata": {},
   "source": [
    "##### Q40. What is a tuple? How is it different from list?\n",
    "###### ANS : \n",
    "\n",
    "*  Tuple is also a collection of values, A tuple can contain different data types.\n",
    "\n",
    "   Also, the tuples are immutatble menaing the values inside the tuple can not be changed. "
   ]
  },
  {
   "cell_type": "markdown",
   "id": "eedacc97",
   "metadata": {},
   "source": [
    "##### Q41. How can you create a tuple in Python?\n",
    "###### ANS : \n",
    "\n",
    "    Tuple can be created using paranthesis ()\n",
    "    \n",
    "    t1 = (1, 2, 3) "
   ]
  },
  {
   "cell_type": "markdown",
   "id": "b98b26d4",
   "metadata": {},
   "source": [
    "##### Q42. Create a tuple and try to add your name in the tuple. Are you able to do it? Support your answer with reason.\n",
    "###### ANS : \n",
    "\n",
    "    This operations are not possible as the tuples are immutable.\n",
    "    t1 = (1, 2, 3)\n",
    "    t1.append(\"kalpesh\")"
   ]
  },
  {
   "cell_type": "markdown",
   "id": "60d16f59",
   "metadata": {},
   "source": [
    "##### Q43. Can two tuple be appended. If yes, write a code for it. If not, why?\n",
    "###### ANS : \n",
    "\n",
    "    Two tuples can not be appended as is as tuples are immutable \n",
    "    we can not perform below methods:\n",
    "    \n",
    "    t1 = (1,2,3) \n",
    "    t2 = (4,5,6)\n",
    "\n",
    "    t1.append(t2) \n",
    "    t1.add(t2)\n",
    "\n",
    "    t3 = t1.insert(1, t2)"
   ]
  },
  {
   "cell_type": "markdown",
   "id": "7ad7d139",
   "metadata": {},
   "source": [
    "But if we convert them to list first and then append then and convert them back to tuple, \n",
    "this can be an alternative way to cappend tuples."
   ]
  },
  {
   "cell_type": "code",
   "execution_count": 6,
   "id": "079da0ed",
   "metadata": {},
   "outputs": [
    {
     "name": "stdout",
     "output_type": "stream",
     "text": [
      "(1, 2, 3, 4, 5, 6)\n",
      "<class 'tuple'>\n"
     ]
    }
   ],
   "source": [
    "t1 = (1,2,3)\n",
    "t2 = (4,5,6)\n",
    "\n",
    "t3 = tuple(list(t1) + list(t2))\n",
    "\n",
    "print(t3)\n",
    "print(type(t3))"
   ]
  },
  {
   "cell_type": "markdown",
   "id": "fc9e956c",
   "metadata": {},
   "source": [
    "##### Q44. Take a tuple as an input and print the count of elements in it.\n",
    "###### ANS : \n"
   ]
  },
  {
   "cell_type": "code",
   "execution_count": 8,
   "id": "87cc75c5",
   "metadata": {},
   "outputs": [
    {
     "name": "stdout",
     "output_type": "stream",
     "text": [
      "Enter List values: 1 13 12 11 8 7\n",
      "6\n",
      "<class 'tuple'>\n"
     ]
    }
   ],
   "source": [
    "my_tuple = tuple(x for x in input(\"Enter List values: \").split())\n",
    "\n",
    "print(len(my_tuple))\n",
    "print(type(my_tuple))"
   ]
  },
  {
   "cell_type": "markdown",
   "id": "17db7de6",
   "metadata": {},
   "source": [
    "##### Q45. What are sets in Python?\n",
    "###### ANS : \n",
    "\n",
    "    Set is a collection of heterogenous values which are ordered and distinct, represented by curly braces {}"
   ]
  },
  {
   "cell_type": "code",
   "execution_count": 12,
   "id": "da2860a2",
   "metadata": {},
   "outputs": [
    {
     "name": "stdout",
     "output_type": "stream",
     "text": [
      "{0, 1, 2, 3, 4, 5, 'XYZ', 'xyz'}\n"
     ]
    }
   ],
   "source": [
    "s1 = { 1, 2, 3, 4, 4, 5, 0, \"XYZ\", \"xyz\", \"xyz\"}\n",
    "\n",
    "print(s1)"
   ]
  },
  {
   "cell_type": "markdown",
   "id": "2a43e075",
   "metadata": {},
   "source": [
    "##### Q46. How can you create a set?\n",
    "###### ANS : \n",
    "\n",
    "    A set can be created using {} representation, adding value to itseperated by commas"
   ]
  },
  {
   "cell_type": "markdown",
   "id": "3ed2f5fd",
   "metadata": {},
   "source": [
    "##### Q47. Create a set and add \"iNeuron\" in your set.\n",
    "###### ANS : \n"
   ]
  },
  {
   "cell_type": "code",
   "execution_count": 14,
   "id": "9cbb8e9f",
   "metadata": {},
   "outputs": [
    {
     "name": "stdout",
     "output_type": "stream",
     "text": [
      "{0, 1, 2, 3, 4, 5, 'XYZ', 'iNeuron', 'xyz'}\n"
     ]
    }
   ],
   "source": [
    "set_1 = { 1, 2, 3, 4, 4, 5, 0, \"XYZ\", \"xyz\", \"xyz\"}\n",
    "\n",
    "set_1.add(\"iNeuron\")\n",
    "\n",
    "print(set_1)"
   ]
  },
  {
   "cell_type": "markdown",
   "id": "ecf78c5d",
   "metadata": {},
   "source": [
    "##### Q48. Try to add multiple values using add() function.\n",
    "###### ANS : \n",
    "\n",
    "add() takes exactly one argument:\n",
    "we can add multiple values using update() method"
   ]
  },
  {
   "cell_type": "markdown",
   "id": "dfc38a6e",
   "metadata": {},
   "source": [
    "set_1 = {2, 3, 4, 4, 5, \"XYZ\", \"xyz\", \"xyz\"}\n",
    "\n",
    "set_1.add(\"iNeuron\",1,10)\n",
    "\n",
    "\n",
    "print(set_1)\n",
    "\n",
    "output:\n",
    "\n",
    "TypeError: add() takes exactly one argument (3 given)"
   ]
  },
  {
   "cell_type": "markdown",
   "id": "9c6adc03",
   "metadata": {},
   "source": [
    "##### Q49. How is update() different from add()?\n",
    "###### ANS : \n",
    "\n",
    "    Add adds an element, update \"adds\" another iterable set, list or tuple i.e. multiple elements."
   ]
  },
  {
   "cell_type": "code",
   "execution_count": 122,
   "id": "f62d0ebc",
   "metadata": {},
   "outputs": [
    {
     "name": "stdout",
     "output_type": "stream",
     "text": [
      "{False, True, 2, 3, 4, 5, 'XYZ', 'iNeuron', 45, 'xyz'}\n"
     ]
    }
   ],
   "source": [
    "set_1 = {2, 3, 4, 4, 5, \"XYZ\", \"xyz\", \"xyz\"}\n",
    "\n",
    "multi_vals = [\"iNeuron\", 45, False, True]\n",
    "\n",
    "set_1.update(multi_vals)\n",
    "\n",
    "print(set_1)"
   ]
  },
  {
   "cell_type": "markdown",
   "id": "5c5d5827",
   "metadata": {},
   "source": [
    "##### Q50. What is clear() in sets?\n",
    "###### ANS : \n",
    "\n",
    "    The clear() method removes all items from the set.\n",
    "\n",
    "    Ex;"
   ]
  },
  {
   "cell_type": "code",
   "execution_count": 123,
   "id": "d679b596",
   "metadata": {},
   "outputs": [
    {
     "name": "stdout",
     "output_type": "stream",
     "text": [
      "set()\n"
     ]
    }
   ],
   "source": [
    "set_1.clear()\n",
    "print(set_1)"
   ]
  },
  {
   "cell_type": "markdown",
   "id": "3d2994a6",
   "metadata": {},
   "source": [
    "##### Q51. What is frozen set?\n",
    "###### ANS : \n",
    "\n",
    "* A frozenset is an unordered and unindexed collection of unique elements.\n",
    "* It is immutable and it is hashable. It is also called an immutable set.\n",
    "* Since the elements are fixed, we can't add or remove elements from the set.\n",
    "  \n",
    " Ex; fruits = {\"Apple\", \"Banana\", \"Cherry\", \"Apple\", \"Kiwi\"} basket = frozenset(fruits)"
   ]
  },
  {
   "cell_type": "markdown",
   "id": "207d168b",
   "metadata": {},
   "source": [
    "##### Q52. How is frozen set different from set?\n",
    "###### ANS : \n",
    "\n",
    "* A frozenset is immutable and it is hashable.\n",
    "* Since the elements are fixed, we can't add or remove elements from the set.\n",
    "* Frozensets are hashable, we can use the elements as a dictionary key or as an element from another set.\n",
    " \n",
    " Ex:"
   ]
  },
  {
   "cell_type": "code",
   "execution_count": 18,
   "id": "c9d60124",
   "metadata": {},
   "outputs": [],
   "source": [
    "fruits = {\"Apple\", \"Banana\", \"Cherry\", \"Apple\", \"Kiwi\"} \n",
    "basket = frozenset(fruits)"
   ]
  },
  {
   "cell_type": "markdown",
   "id": "c3103756",
   "metadata": {},
   "source": [
    "Output-"
   ]
  },
  {
   "cell_type": "code",
   "execution_count": 21,
   "id": "451bd7e8",
   "metadata": {},
   "outputs": [
    {
     "name": "stdout",
     "output_type": "stream",
     "text": [
      "Unique elements: frozenset({'Kiwi', 'Banana', 'Cherry', 'Apple'})\n"
     ]
    }
   ],
   "source": [
    "print('Unique elements:', basket)"
   ]
  },
  {
   "cell_type": "markdown",
   "id": "556cb9f1",
   "metadata": {},
   "source": [
    "* Add new fruit throws an error!"
   ]
  },
  {
   "cell_type": "code",
   "execution_count": 20,
   "id": "9eaced31",
   "metadata": {},
   "outputs": [
    {
     "ename": "AttributeError",
     "evalue": "'frozenset' object has no attribute 'add'",
     "output_type": "error",
     "traceback": [
      "\u001b[1;31m---------------------------------------------------------------------------\u001b[0m",
      "\u001b[1;31mAttributeError\u001b[0m                            Traceback (most recent call last)",
      "\u001b[1;32m<ipython-input-20-9b9f542b6c51>\u001b[0m in \u001b[0;36m<module>\u001b[1;34m\u001b[0m\n\u001b[1;32m----> 1\u001b[1;33m \u001b[0mbasket\u001b[0m\u001b[1;33m.\u001b[0m\u001b[0madd\u001b[0m\u001b[1;33m(\u001b[0m\u001b[1;34m\"Orange\"\u001b[0m\u001b[1;33m)\u001b[0m\u001b[1;33m\u001b[0m\u001b[1;33m\u001b[0m\u001b[0m\n\u001b[0m\u001b[0;32m      2\u001b[0m \u001b[0mprint\u001b[0m\u001b[1;33m(\u001b[0m\u001b[1;34m'After adding new element:'\u001b[0m\u001b[1;33m,\u001b[0m \u001b[0mbasket\u001b[0m\u001b[1;33m)\u001b[0m\u001b[1;33m\u001b[0m\u001b[1;33m\u001b[0m\u001b[0m\n",
      "\u001b[1;31mAttributeError\u001b[0m: 'frozenset' object has no attribute 'add'"
     ]
    }
   ],
   "source": [
    "basket.add(\"Orange\") \n",
    "print('After adding new element:', basket)"
   ]
  },
  {
   "cell_type": "markdown",
   "id": "43f8d592",
   "metadata": {},
   "source": [
    "##### Q53. What is union() in sets? Explain via code.\n",
    "###### ANS : \n",
    "\n",
    "    Union combines all the elements from both the sets. Repeating elements are only considered once."
   ]
  },
  {
   "cell_type": "code",
   "execution_count": 23,
   "id": "178affc3",
   "metadata": {},
   "outputs": [
    {
     "name": "stdout",
     "output_type": "stream",
     "text": [
      "{1, 2, 3, 4, 5}\n"
     ]
    }
   ],
   "source": [
    "numbers1 = {1, 4, 5}\n",
    "numbers2 = {2, 3, 4, 5}\n",
    "\n",
    "numbers3 = numbers1 | numbers2\n",
    "\n",
    "print(numbers3)"
   ]
  },
  {
   "cell_type": "markdown",
   "id": "d6d0e848",
   "metadata": {},
   "source": [
    "##### Q54. What is intersection() in sets? Explain via code.\n",
    "###### ANS : \n",
    "\n",
    "    Intersection only returns the common elements between both the sets."
   ]
  },
  {
   "cell_type": "code",
   "execution_count": 25,
   "id": "28c7929b",
   "metadata": {},
   "outputs": [
    {
     "name": "stdout",
     "output_type": "stream",
     "text": [
      "{4, 5}\n"
     ]
    }
   ],
   "source": [
    "numbers1 = {1, 4, 5}\n",
    "numbers2 = {2, 3, 4, 5}\n",
    "\n",
    "numbers3 = numbers1 & numbers2\n",
    "\n",
    "print(numbers3)"
   ]
  },
  {
   "cell_type": "markdown",
   "id": "da024ad1",
   "metadata": {},
   "source": [
    "##### Q55. What is dictionary ibn Python?\n",
    "###### ANS :\n",
    "\n",
    "    Dictionary is a map data structure consisting of key-value pairs, with unique set of keys.\n",
    "\n",
    "    ex;\n",
    "\n",
    "    my_dict = { \"name\" : \"kalpesh\", \"age\" : 25, \"skills\" : [\"Python\", \"scala\", \"bigdata\"] }"
   ]
  },
  {
   "cell_type": "code",
   "execution_count": 8,
   "id": "a57559b7",
   "metadata": {},
   "outputs": [
    {
     "name": "stdout",
     "output_type": "stream",
     "text": [
      "<class 'dict'>\n"
     ]
    }
   ],
   "source": [
    "my_dict = {\n",
    "    \"name\" : \"vishal\",\n",
    "    \"age\" : 25,\n",
    "    \"skills\" : [\"Python\", \"scala\", \"bigdata\"]\n",
    "}\n",
    "\n",
    "print(type(my_dict))"
   ]
  },
  {
   "cell_type": "code",
   "execution_count": 33,
   "id": "3227f61f",
   "metadata": {},
   "outputs": [
    {
     "data": {
      "text/plain": [
       "[1, 3, 'vishal']"
      ]
     },
     "execution_count": 33,
     "metadata": {},
     "output_type": "execute_result"
    }
   ],
   "source": [
    "list = [1,3,\"vishal\"]\n",
    "list"
   ]
  },
  {
   "cell_type": "markdown",
   "id": "9ad4add0",
   "metadata": {},
   "source": [
    "##### Q56. How is dictionary different from all other data structures.\n",
    "###### ANS :\n",
    "\n",
    "* A dictionary represents the relationship between pair of objects instead of just a set of objects like list, tuple, sets,       etc\n",
    "* Elements may or may not be stored at a contagious memory location.\n",
    "* Items are ordered, changeable, and do not allow duplicates\n",
    "* The values in dictionary items can be of any data type\n",
    "* To access a value the key is required"
   ]
  },
  {
   "cell_type": "markdown",
   "id": "e5429730",
   "metadata": {},
   "source": [
    "##### Q57. How can we delare a dictionary in Python?\n",
    "###### ANS :\n",
    "\n",
    "    A dictionary can be declared using a set of curly braces, {} \n",
    "    \n",
    "    my_dict = { \"name\" : \"vishal\", \"age\" : 25, \"skills\" : [\"Python\", \"scala\", \"bigdata\"] }\n",
    "\n",
    "    Another way could be using dict() function\n",
    "\n",
    "    my_dict = dict({ \"name\" : \"vishal\", \"age\" : 25, \"skills\" : [\"Python\", \"scala\", \"bigdata\"] })"
   ]
  },
  {
   "cell_type": "markdown",
   "id": "5b925890",
   "metadata": {},
   "source": [
    "##### Q58. What will the output of the following?\n",
    "###### ANS :\n"
   ]
  },
  {
   "cell_type": "code",
   "execution_count": 4,
   "id": "c8e63c06",
   "metadata": {},
   "outputs": [
    {
     "name": "stdout",
     "output_type": "stream",
     "text": [
      "<class 'dict'>\n"
     ]
    }
   ],
   "source": [
    "var = {}\n",
    "print(type(var))"
   ]
  },
  {
   "cell_type": "markdown",
   "id": "6a4b0c47",
   "metadata": {},
   "source": [
    "##### Q59. How can we add an element in a dictionary?\n",
    "###### ANS :\n",
    "\n",
    "    We can add an element to the dictionary by simply adding a value along with keys.\n",
    "\n",
    "    Following is an example of it."
   ]
  },
  {
   "cell_type": "code",
   "execution_count": 10,
   "id": "9d1324f5",
   "metadata": {},
   "outputs": [
    {
     "data": {
      "text/plain": [
       "{'name': 'vishal', 'age': 20, 'skills': ['Python', 'scala', 'bigdata']}"
      ]
     },
     "execution_count": 10,
     "metadata": {},
     "output_type": "execute_result"
    }
   ],
   "source": [
    "my_dict = {\n",
    "    \"name\" : \"vishal\",\n",
    "    \"age\" : 20,\n",
    "    \"skills\" : [\"Python\", \"scala\", \"bigdata\"]\n",
    "}\n",
    "my_dict"
   ]
  },
  {
   "cell_type": "code",
   "execution_count": 11,
   "id": "acd0db92",
   "metadata": {},
   "outputs": [
    {
     "name": "stdout",
     "output_type": "stream",
     "text": [
      "{'name': 'vishal', 'age': 20, 'skills': ['Python', 'scala', 'bigdata'], 'Education': 'BE IN IT'}\n"
     ]
    }
   ],
   "source": [
    "# Adding a new element to dictionary\n",
    "my_dict['Education'] = \"BE IN IT\"\n",
    "\n",
    "print(my_dict)"
   ]
  },
  {
   "cell_type": "markdown",
   "id": "192a61ba",
   "metadata": {},
   "source": [
    "##### Q60. Create a dictionary and access all the values in that dictionary.\n",
    "###### ANS :"
   ]
  },
  {
   "cell_type": "code",
   "execution_count": 40,
   "id": "a82d2355",
   "metadata": {},
   "outputs": [
    {
     "name": "stdout",
     "output_type": "stream",
     "text": [
      "vishal\n",
      "20\n",
      "vnv@gmail.com\n",
      "1234567890\n",
      "['Databricks', 'Python', 'Tableau']\n"
     ]
    }
   ],
   "source": [
    "my_dict = {\n",
    "    \"name\"  : \"vishal\",\n",
    "    \"age\"   : 20,\n",
    "    \"gmail\" : \"vnv@gmail.com\",\n",
    "    \"number\": 1234567890,\n",
    "    \"skill\" : [\"Databricks\",\"Python\",\"Tableau\"]\n",
    "}\n",
    "\n",
    "for i in my_dict:\n",
    "    print(my_dict[i])"
   ]
  },
  {
   "cell_type": "markdown",
   "id": "175b70db",
   "metadata": {},
   "source": [
    "##### Q61. Create a nested dictionary and access all the element in the inner dictionary.\n",
    "###### ANS :"
   ]
  },
  {
   "cell_type": "code",
   "execution_count": 52,
   "id": "e6fcb5a6",
   "metadata": {},
   "outputs": [
    {
     "name": "stdout",
     "output_type": "stream",
     "text": [
      "name : vishal\n",
      "age : 20\n",
      "email : vnv@gmail.com\n",
      "number : 1234567890\n",
      "EDU : {'Diploma': 'IT', 'Engineering': 'IT', 'PHD': 'Data Science'}\n"
     ]
    }
   ],
   "source": [
    "my_dict = {\n",
    "    \"name\"  : \"vishal\",\n",
    "    \"age\"   : 20,\n",
    "    \"email\" : \"vnv@gmail.com\",\n",
    "    \"number\": 1234567890,\n",
    "    \"EDU\"   :{\n",
    "                \"Diploma\"     : \"IT\",\n",
    "                \"Engineering\" : \"IT\",\n",
    "                \"PHD\"         : \"Data Science\"\n",
    "             }\n",
    "}\n",
    "\n",
    "for i in my_dict:\n",
    "    print(i,\":\",my_dict[i])"
   ]
  },
  {
   "cell_type": "code",
   "execution_count": 55,
   "id": "1ff5302e",
   "metadata": {},
   "outputs": [
    {
     "name": "stdout",
     "output_type": "stream",
     "text": [
      "Key:  name  value:  vishal\n",
      "Key:  age  value:  20\n",
      "Key:  email  value:  vnv@gmail.com\n",
      "Key:  number  value:  1234567890\n",
      "Key:  EDU  value:  {'Diploma': 'IT', 'Engineering': 'IT', 'PHD': 'Data Science'}\n"
     ]
    }
   ],
   "source": [
    "for key in list(my_dict.keys()):\n",
    "    print(\"Key: \", key, \" value: \", my_dict[key])"
   ]
  },
  {
   "cell_type": "markdown",
   "id": "8ce84647",
   "metadata": {},
   "source": [
    "##### Q62. What is the use of get() function?\n",
    "###### ANS :\n",
    "\n",
    "    The get() method returns the value of the item with the specified key"
   ]
  },
  {
   "cell_type": "code",
   "execution_count": 50,
   "id": "f74369ac",
   "metadata": {},
   "outputs": [
    {
     "name": "stdout",
     "output_type": "stream",
     "text": [
      "vishal\n",
      "1234567890\n",
      "{'Diploma': 'IT', 'Engineering': 'IT', 'PHD': 'Data Science'}\n",
      "Data Science\n"
     ]
    }
   ],
   "source": [
    "my_dict = {\n",
    "    \"name\"  : \"vishal\",\n",
    "    \"age\"   : 20,\n",
    "    \"email\" : \"vnv@gmail.com\",\n",
    "    \"number\": 1234567890,\n",
    "    \"EDU\"   :{\n",
    "                \"Diploma\"     : \"IT\",\n",
    "                \"Engineering\" : \"IT\",\n",
    "                \"PHD\"         : \"Data Science\"\n",
    "             }\n",
    "}\n",
    "\n",
    "print(my_dict.get(\"name\"))\n",
    "print(my_dict.get(\"number\"))\n",
    "print(my_dict.get(\"EDU\"))\n",
    "print(my_dict.get(\"EDU\").get(\"PHD\"))"
   ]
  },
  {
   "cell_type": "markdown",
   "id": "16ad8a7c",
   "metadata": {},
   "source": [
    "##### Q63. What is the use of items() function?\n",
    "###### ANS :\n",
    "\n",
    "    items() returns a list of all the keys and values pair in the dictionary"
   ]
  },
  {
   "cell_type": "code",
   "execution_count": 81,
   "id": "0c27d945",
   "metadata": {},
   "outputs": [
    {
     "name": "stdout",
     "output_type": "stream",
     "text": [
      "name : vishal\n",
      "age : 20\n",
      "email : vnv@gmail.com\n",
      "number : 1234567890\n",
      "EDU : {'Diploma': 'IT', 'Engineering': 'IT', 'PHD': 'Data Science'}\n"
     ]
    }
   ],
   "source": [
    "my_dict = {\n",
    "    \"name\"  : \"vishal\",\n",
    "    \"age\"   : 20,\n",
    "    \"email\" : \"vnv@gmail.com\",\n",
    "    \"number\": 1234567890,\n",
    "    \"EDU\"   :{\n",
    "                \"Diploma\"     : \"IT\",\n",
    "                \"Engineering\" : \"IT\",\n",
    "                \"PHD\"         : \"Data Science\"\n",
    "             }\n",
    "}\n",
    "\n",
    "for i,j in my_dict.items():\n",
    "    print(i, \":\" , j)"
   ]
  },
  {
   "cell_type": "code",
   "execution_count": 82,
   "id": "06cb1344",
   "metadata": {},
   "outputs": [
    {
     "name": "stdout",
     "output_type": "stream",
     "text": [
      "[('name', 'vishal'), ('age', 20), ('email', 'vnv@gmail.com'), ('number', 1234567890), ('EDU', {'Diploma': 'IT', 'Engineering': 'IT', 'PHD': 'Data Science'})]\n"
     ]
    }
   ],
   "source": [
    "print(list(my_dict.items()))"
   ]
  },
  {
   "cell_type": "markdown",
   "id": "562b7569",
   "metadata": {},
   "source": [
    "##### Q64. What is the use of pop() function?\n",
    "###### ANS :\n",
    "\n",
    "\n",
    "pop function removes the elements from data structures based on index or keys\n",
    "\n",
    "Ex; In following code we removed value for \"email\" key from dict2 as well as value at index 4 of a list lst3\n",
    "\n",
    "List& Dictionary- for a list by default the last value in the list is removed if no index is specified, but for dictionary a key has to be specified\n",
    "\n",
    "Set- When pop operation is done on set, it can only remove last value of set, it does not take any index as arguments.\n",
    "\n",
    "Tuple- pop operation on tuple is not supported"
   ]
  },
  {
   "cell_type": "code",
   "execution_count": 84,
   "id": "e87d5ffe",
   "metadata": {},
   "outputs": [
    {
     "name": "stdout",
     "output_type": "stream",
     "text": [
      "key:  name     value:  vishal\n",
      "key:  age     value:  20\n",
      "key:  number     value:  1234567890\n",
      "key:  EDU     value:  {'Diploma': 'IT', 'Engineering': 'IT', 'PHD': 'Data Science'}\n"
     ]
    }
   ],
   "source": [
    "# POP from dictionary\n",
    "\n",
    "dict2 = {\n",
    "    \"name\"  : \"vishal\",\n",
    "    \"age\"   : 20,\n",
    "    \"email\" : \"vnv@gmail.com\",\n",
    "    \"number\": 1234567890,\n",
    "    \"EDU\"   :{\n",
    "                \"Diploma\"     : \"IT\",\n",
    "                \"Engineering\" : \"IT\",\n",
    "                \"PHD\"         : \"Data Science\"\n",
    "             }\n",
    "}\n",
    "\n",
    "dict2.pop(\"email\")\n",
    "\n",
    "for k, v in dict2.items():\n",
    "    print(\"key: \", k,\"   \", \"value: \", v)"
   ]
  },
  {
   "cell_type": "code",
   "execution_count": 70,
   "id": "9396c980",
   "metadata": {},
   "outputs": [
    {
     "name": "stdout",
     "output_type": "stream",
     "text": [
      "[1, 2, 3, 4, 6]\n"
     ]
    }
   ],
   "source": [
    "    \n",
    "# pop from list \n",
    "lst3 = [1,2,3,4,5,6]\n",
    "lst3.pop(4) # 4th index value will get removed.\n",
    "\n",
    "print(lst3)\n"
   ]
  },
  {
   "cell_type": "code",
   "execution_count": 94,
   "id": "2364d0b3",
   "metadata": {},
   "outputs": [
    {
     "name": "stdout",
     "output_type": "stream",
     "text": [
      "{1, 2, 3, 4, 5, 6, 7}\n"
     ]
    }
   ],
   "source": [
    "# pop from set\n",
    "set3 = {0,1,2,3,4,5,6,7}\n",
    "set3.pop()\n",
    "\n",
    "print(set3)"
   ]
  },
  {
   "cell_type": "code",
   "execution_count": 95,
   "id": "227db6cf",
   "metadata": {},
   "outputs": [
    {
     "ename": "AttributeError",
     "evalue": "'tuple' object has no attribute 'pop'",
     "output_type": "error",
     "traceback": [
      "\u001b[1;31m---------------------------------------------------------------------------\u001b[0m",
      "\u001b[1;31mAttributeError\u001b[0m                            Traceback (most recent call last)",
      "\u001b[1;32m<ipython-input-95-7928b26e87be>\u001b[0m in \u001b[0;36m<module>\u001b[1;34m\u001b[0m\n\u001b[0;32m      1\u001b[0m \u001b[1;31m# pop from tuple\u001b[0m\u001b[1;33m\u001b[0m\u001b[1;33m\u001b[0m\u001b[1;33m\u001b[0m\u001b[0m\n\u001b[0;32m      2\u001b[0m \u001b[0mt3\u001b[0m \u001b[1;33m=\u001b[0m \u001b[1;33m(\u001b[0m\u001b[1;36m3\u001b[0m\u001b[1;33m,\u001b[0m\u001b[1;36m4\u001b[0m\u001b[1;33m,\u001b[0m\u001b[1;36m5\u001b[0m\u001b[1;33m,\u001b[0m\u001b[1;36m6\u001b[0m\u001b[1;33m,\u001b[0m\u001b[1;36m7\u001b[0m\u001b[1;33m,\u001b[0m\u001b[1;36m8\u001b[0m\u001b[1;33m,\u001b[0m\u001b[1;36m9\u001b[0m\u001b[1;33m)\u001b[0m\u001b[1;33m\u001b[0m\u001b[1;33m\u001b[0m\u001b[0m\n\u001b[1;32m----> 3\u001b[1;33m \u001b[0mt3\u001b[0m\u001b[1;33m.\u001b[0m\u001b[0mpop\u001b[0m\u001b[1;33m(\u001b[0m\u001b[1;33m)\u001b[0m\u001b[1;33m\u001b[0m\u001b[1;33m\u001b[0m\u001b[0m\n\u001b[0m",
      "\u001b[1;31mAttributeError\u001b[0m: 'tuple' object has no attribute 'pop'"
     ]
    }
   ],
   "source": [
    "# pop from tuple \n",
    "t3 = (3,4,5,6,7,8,9)\n",
    "t3.pop()"
   ]
  },
  {
   "cell_type": "markdown",
   "id": "abf46589",
   "metadata": {},
   "source": [
    "##### Q65. What is the use of popitems() function?\n",
    "###### ANS :\n",
    "\n",
    "    Python dictionary popitem() method removes the last inserted key-value pair from the dictionary and returns it as a tuple."
   ]
  },
  {
   "cell_type": "code",
   "execution_count": 111,
   "id": "5ee304a9",
   "metadata": {},
   "outputs": [
    {
     "name": "stdout",
     "output_type": "stream",
     "text": [
      "(3, '011')\n"
     ]
    }
   ],
   "source": [
    "d = {1: '001', 2: '010', 3: '011'}\n",
    "\n",
    "poped_item = d.popitem()\n",
    "print(poped_item)"
   ]
  },
  {
   "cell_type": "markdown",
   "id": "33118e39",
   "metadata": {},
   "source": [
    "##### Q66. What is the use of keys() function?\n",
    "###### ANS :\n",
    "\n",
    "keys() function returns the list of keys in a wrapped format.\n",
    "\n",
    "Ex; d = {1: '001', 2: '010', 3: '011'} print(d.keys())\n",
    "\n",
    "To get this list of keys in proper format, the result has to be typecasted to list print(list(d.keys()))"
   ]
  },
  {
   "cell_type": "code",
   "execution_count": 76,
   "id": "e43ddedf",
   "metadata": {},
   "outputs": [
    {
     "name": "stdout",
     "output_type": "stream",
     "text": [
      "dict_keys([1, 2, 3])\n",
      "[1, 2, 3]\n"
     ]
    }
   ],
   "source": [
    "d = {1: '001', 2: '010', 3: '011'}\n",
    "\n",
    "print(d.keys())\n",
    "print(list(d.keys()))"
   ]
  },
  {
   "cell_type": "markdown",
   "id": "86380f8f",
   "metadata": {},
   "source": [
    "##### Q67. What is the use of values() function?\n",
    "###### ANS :\n",
    "\n",
    "    values() function returns the list of values in a wrapped format.\n",
    "\n",
    "    Ex; d = {1: '001', 2: '010', 3: '011'} print(d.values())\n",
    "\n",
    "    To get this list of values in proper format, the result has to be typecasted to list print(list(d.values()))"
   ]
  },
  {
   "cell_type": "code",
   "execution_count": 112,
   "id": "21ca58a7",
   "metadata": {},
   "outputs": [
    {
     "name": "stdout",
     "output_type": "stream",
     "text": [
      "dict_values(['001', '010', '011'])\n",
      "['001', '010', '011']\n"
     ]
    }
   ],
   "source": [
    "d = {1: '001', 2: '010', 3: '011'}\n",
    "print(d.values())\n",
    "\n",
    "print(list(d.values()))"
   ]
  },
  {
   "cell_type": "markdown",
   "id": "cc351142",
   "metadata": {},
   "source": [
    "##### Q68. What are loops in Python?\n",
    "###### ANS :\n",
    "\n",
    "    loops are the statements that allows us to execute certain statements multiple times based on certain conditions\n",
    "    A loop is used for iterating over a sequence (that is either a list, a tuple, a dictionary, a set, or a string). "
   ]
  },
  {
   "cell_type": "markdown",
   "id": "1c254c54",
   "metadata": {},
   "source": [
    "##### Q69. How many type of loop are there in Python?\n",
    "###### ANS :\n",
    "\n",
    "    There are 2 types of loops in python\n",
    "\n",
    "1: While loop:\n",
    "    \n",
    "    In python, a while loop is used to execute a block of statements repeatedly until a given condition is satisfied.\n",
    "    \n",
    "2: For loop:\n",
    "    \n",
    "    used for sequential traversal. For example: traversing a list or string or array etc.\n"
   ]
  },
  {
   "cell_type": "markdown",
   "id": "fb6809fe",
   "metadata": {},
   "source": [
    "##### Q70. What is the difference between for and while loops?\n",
    "###### ANS :\n",
    "\n",
    "\n",
    "    * for loop is suitable when the number of iterations are fixed also counter variable get incremented automatically \n",
    "      without any increment statement in the loop body.\n",
    "\n",
    "    * while loop is suitable when only the exit condition is known also counter variable has to be incremented by an \n",
    "      increment statement in the loop body.\n",
    "     \n",
    "    * The for statement iterates through a collection or iterable object or generator function.\n",
    "\n",
    "    * The while statement simply loops until a condition is False."
   ]
  },
  {
   "cell_type": "markdown",
   "id": "a48833e8",
   "metadata": {},
   "source": [
    "##### Q71. What is the use of continue statement?\n",
    "###### ANS :\n",
    "\n",
    "    Continue Statement skips the execution of the program block from after the continue statement \n",
    "    and forces the control to start the next iteration."
   ]
  },
  {
   "cell_type": "markdown",
   "id": "587c0723",
   "metadata": {},
   "source": [
    "##### Q72. What is the use of break statement?\n",
    "###### ANS :\n",
    "\n",
    "    break is used to terminate the execution of the loop."
   ]
  },
  {
   "cell_type": "markdown",
   "id": "724d7dfb",
   "metadata": {},
   "source": [
    "##### Q73. What is the use of pass statement?\n",
    "###### ANS :\n",
    "\n",
    "\n",
    "    The pass statement is a null statement and it does nothing. But the difference between pass and comment is \n",
    "    that comment is ignored by the interpreter whereas pass is not ignored.\n",
    "\n",
    "    Ex;\n"
   ]
  },
  {
   "cell_type": "code",
   "execution_count": 125,
   "id": "6ff63eb5",
   "metadata": {},
   "outputs": [],
   "source": [
    "a = 10 \n",
    "b = 20\n",
    "\n",
    "if(a<b): \n",
    "    pass \n",
    "else: \n",
    "    print(\"b<a\")"
   ]
  },
  {
   "cell_type": "markdown",
   "id": "05272b1d",
   "metadata": {},
   "source": [
    "##### Q74. What is the use of range() function?\n",
    "###### ANS :\n",
    "\n",
    "    Range returns a list of mentioned value\n",
    "\n",
    "    Ex;\n",
    "\n",
    "    range(1, 11, 2) here, range returns all the values from 1 to 10 with a difference of 2\n",
    "\n",
    "    1 => the starting value which is included 11 => the endingt value which is excluded 2 => difference \n",
    "    which is by default 1 and is an optional argument"
   ]
  },
  {
   "cell_type": "code",
   "execution_count": 126,
   "id": "9fcbab99",
   "metadata": {},
   "outputs": [
    {
     "name": "stdout",
     "output_type": "stream",
     "text": [
      "1\n",
      "3\n",
      "5\n",
      "7\n",
      "9\n"
     ]
    }
   ],
   "source": [
    "for x in range(1, 11, 2):\n",
    "    print(x)"
   ]
  },
  {
   "cell_type": "markdown",
   "id": "34d6a5bf",
   "metadata": {},
   "source": [
    "##### Q75. How can you loop over a dictionary?\n",
    "###### ANS :\n",
    "\n",
    "    We can loop over a dictionary using keys() and items() function"
   ]
  },
  {
   "cell_type": "code",
   "execution_count": 144,
   "id": "ac1c16e0",
   "metadata": {},
   "outputs": [],
   "source": [
    "dict2 = {\n",
    "    \"name\"  : \"vishal\",\n",
    "    \"age\"   : 20,\n",
    "    \"email\" : \"vnv@gmail.com\",\n",
    "    \"number\": 1234567890,\n",
    "    \"EDU\"   :{\n",
    "                \"Diploma\"     : \"IT\",\n",
    "                \"Engineering\" : \"IT\",\n",
    "                \"PHD\"         : \"Data Science\"\n",
    "             }\n",
    "}"
   ]
  },
  {
   "cell_type": "code",
   "execution_count": 147,
   "id": "a2c8fefd",
   "metadata": {},
   "outputs": [
    {
     "name": "stdout",
     "output_type": "stream",
     "text": [
      "Using keys() function \n",
      "\n",
      "Key:  name      value:  vishal\n",
      "Key:  age      value:  20\n",
      "Key:  email      value:  vnv@gmail.com\n",
      "Key:  number      value:  1234567890\n",
      "Key:  EDU      value:  {'Diploma': 'IT', 'Engineering': 'IT', 'PHD': 'Data Science'}\n"
     ]
    }
   ],
   "source": [
    "# Using keys() function\n",
    "\n",
    "print(\"Using keys() function \\n\")\n",
    "\n",
    "for key in list(dict2.keys()):\n",
    "    print(\"Key: \", key,\"    \", \"value: \", dict2[key])"
   ]
  },
  {
   "cell_type": "code",
   "execution_count": 148,
   "id": "ab778d04",
   "metadata": {},
   "outputs": [
    {
     "name": "stdout",
     "output_type": "stream",
     "text": [
      "\n",
      "Using items() function \n",
      "\n",
      "key:  name     value:  vishal\n",
      "key:  age     value:  20\n",
      "key:  email     value:  vnv@gmail.com\n",
      "key:  number     value:  1234567890\n",
      "key:  EDU     value:  {'Diploma': 'IT', 'Engineering': 'IT', 'PHD': 'Data Science'}\n"
     ]
    }
   ],
   "source": [
    "# Using items() function\n",
    "\n",
    "print(\"\\nUsing items() function \\n\")\n",
    "\n",
    "for k, v in dict2.items():\n",
    "    print(\"key: \", k,\"   \", \"value: \", v)"
   ]
  },
  {
   "cell_type": "markdown",
   "id": "a89a78b5",
   "metadata": {},
   "source": [
    "# Coding problems\n"
   ]
  },
  {
   "cell_type": "markdown",
   "id": "70027600",
   "metadata": {},
   "source": [
    "##### Q76. Write a Python program to find the factorial of a given number.\n",
    "###### ANS :\n",
    "\n",
    "\n"
   ]
  },
  {
   "cell_type": "code",
   "execution_count": 154,
   "id": "10e63b4f",
   "metadata": {},
   "outputs": [
    {
     "name": "stdout",
     "output_type": "stream",
     "text": [
      "enter a number: 4\n",
      "The factorial of 4 is 24\n"
     ]
    }
   ],
   "source": [
    "num = int(input(\"enter a number: \"))\n",
    "\n",
    "factorial = 1\n",
    "for i in range(1,num + 1):\n",
    "    factorial = factorial*i\n",
    "    \n",
    "print(\"The factorial of\",num,\"is\",factorial)"
   ]
  },
  {
   "cell_type": "markdown",
   "id": "be4d3e80",
   "metadata": {},
   "source": [
    "##### Q77. Write a Python program to calculate the simple interest. Formula to calculate simple interest is SI = (PRT)/100\n",
    "###### ANS :\n",
    "\n"
   ]
  },
  {
   "cell_type": "code",
   "execution_count": 159,
   "id": "20cd5f67",
   "metadata": {},
   "outputs": [
    {
     "name": "stdout",
     "output_type": "stream",
     "text": [
      "Enter the value for p :5\n",
      "Enter the value for r :2\n",
      "Enter the value for t :3\n",
      "simple interest =  0.3\n"
     ]
    }
   ],
   "source": [
    "p = int(input(\"Enter the value for p :\"))\n",
    "r = int(input(\"Enter the value for r :\"))\n",
    "t = int(input(\"Enter the value for t :\"))\n",
    "\n",
    "si = (p*r*t)/100\n",
    "print(\"simple interest = \", si)"
   ]
  },
  {
   "cell_type": "markdown",
   "id": "3116e598",
   "metadata": {},
   "source": [
    "##### Q78. Write a Python program to calculate the compound interest. Formula of compound interest is A = P(1+ R/100)^t.\n",
    "###### ANS :\n",
    "\n"
   ]
  },
  {
   "cell_type": "code",
   "execution_count": 165,
   "id": "e250a274",
   "metadata": {},
   "outputs": [
    {
     "name": "stdout",
     "output_type": "stream",
     "text": [
      "Enter the value for p :5\n",
      "Enter the value for r :2\n",
      "Enter the value for t :3\n",
      "compound interest =  5.306040000000001\n"
     ]
    }
   ],
   "source": [
    "p = int(input(\"Enter the value for p :\"))\n",
    "r = int(input(\"Enter the value for r :\"))\n",
    "t = int(input(\"Enter the value for t :\"))\n",
    "\n",
    "ci = p*((1+ (r/100))**t)\n",
    "\n",
    "print(\"compound interest = \", ci)"
   ]
  },
  {
   "cell_type": "markdown",
   "id": "a8597b7f",
   "metadata": {},
   "source": [
    "##### Q79. Write a Python program to check if a number is prime or not.\n",
    "###### ANS :\n",
    "\n"
   ]
  },
  {
   "cell_type": "code",
   "execution_count": 23,
   "id": "d25c02d0",
   "metadata": {},
   "outputs": [
    {
     "name": "stdout",
     "output_type": "stream",
     "text": [
      "enter a number 17\n",
      "17  is a prime number\n"
     ]
    }
   ],
   "source": [
    "n = int(input(\"enter a number \"))\n",
    "\n",
    "flag = 0\n",
    "\n",
    "for i in range (2, n):\n",
    "    if n % i == 0:\n",
    "        flag = 1\n",
    "        \n",
    "if flag == 0:\n",
    "    print(n, \" is a prime number\")\n",
    "else:\n",
    "    print(n, \" is NOT a prime number\")"
   ]
  },
  {
   "cell_type": "markdown",
   "id": "695b81d3",
   "metadata": {},
   "source": [
    "##### Q80. Write a Python program to check Armstrong Number.\n",
    "###### ANS :\n",
    "\n"
   ]
  },
  {
   "cell_type": "markdown",
   "id": "02a64c75",
   "metadata": {},
   "source": [
    "##### Logic of code:\n",
    "\n",
    "153 = (1*1*1)+(5*5*5)+(3*3*3)  \n",
    "\n",
    "where:  \n",
    "(1*1*1)=1  \n",
    "(5*5*5)=125  \n",
    "(3*3*3)=27  \n",
    "\n",
    "So:  \n",
    "1+125+27=153"
   ]
  },
  {
   "cell_type": "code",
   "execution_count": 8,
   "id": "8242dab0",
   "metadata": {},
   "outputs": [
    {
     "name": "stdout",
     "output_type": "stream",
     "text": [
      "Enter a number: 153\n",
      "153 is an Armstrong number\n"
     ]
    }
   ],
   "source": [
    "num = int(input(\"Enter a number: \"))\n",
    "\n",
    "sum = 0\n",
    "\n",
    "# find the sum of the cube of each digit\n",
    "temp = num\n",
    "while temp > 0:\n",
    "   digit = temp % 10\n",
    "   sum += digit ** 3\n",
    "   temp //= 10\n",
    "\n",
    "if num == sum:\n",
    "   print(num,\"is an Armstrong number\")\n",
    "else:\n",
    "   print(num,\"is not an Armstrong number\")\n"
   ]
  },
  {
   "cell_type": "markdown",
   "id": "65cab2d2",
   "metadata": {},
   "source": [
    "##### Q81. Write a Python program to find the n-th Fibonacci Number.\n",
    "###### ANS :"
   ]
  },
  {
   "cell_type": "code",
   "execution_count": 2,
   "id": "5a4be063",
   "metadata": {},
   "outputs": [
    {
     "name": "stdout",
     "output_type": "stream",
     "text": [
      "17\n"
     ]
    }
   ],
   "source": [
    "no = 10\n",
    "\n",
    "if no < 0:\n",
    "    print(\"Incorrect input\")\n",
    "    \n",
    "elif no == 0:\n",
    "    print(0)\n",
    "elif no == 1 or no == 2:\n",
    "    print(1)\n",
    "else:\n",
    "    r = (no-1) + (no-2)\n",
    "    print(r)"
   ]
  },
  {
   "cell_type": "markdown",
   "id": "05a846b7",
   "metadata": {},
   "source": [
    "##### Q82. Write a Python program to interchange the first and last element in a list.\n",
    "###### ANS :\n"
   ]
  },
  {
   "cell_type": "code",
   "execution_count": 6,
   "id": "55bc4b97",
   "metadata": {},
   "outputs": [
    {
     "name": "stdout",
     "output_type": "stream",
     "text": [
      "List before interchange :  [1, 2, 3, 4, 5, 6]\n",
      "List after interchange :  [6, 2, 3, 4, 5, 1]\n"
     ]
    }
   ],
   "source": [
    "my_list = [1, 2, 3, 4, 5, 6]\n",
    "\n",
    "print(\"List before interchange : \", my_list)\n",
    "my_list[0], my_list[-1] = my_list[-1], my_list[0]\n",
    "\n",
    "print(\"List after interchange : \", my_list)"
   ]
  },
  {
   "cell_type": "markdown",
   "id": "5f031af4",
   "metadata": {},
   "source": [
    "##### Q83. Write a Python program to swap two elements in a list.\n",
    "###### ANS :\n"
   ]
  },
  {
   "cell_type": "code",
   "execution_count": 10,
   "id": "ea6658f2",
   "metadata": {},
   "outputs": [
    {
     "name": "stdout",
     "output_type": "stream",
     "text": [
      "Enter the list: 1 2 3 4\n",
      "Before swapping: [1, 2, 3, 4]\n",
      "Enter the index 1st no to swap:0 \n",
      "Enter the index no which you want to swap with:1\n",
      "[2, 1, 3, 4]\n"
     ]
    }
   ],
   "source": [
    "my_list = list(map(int, input(\"Enter the list: \").split()))\n",
    "\n",
    "print('Before swapping:',my_list)\n",
    "def swap(my_list):\n",
    "    \n",
    "    b=int(input('Enter the index 1st no to swap:'))\n",
    "    c=int(input('Enter the index no which you want to swap with:'))\n",
    "    \n",
    "    temp = my_list[b]\n",
    "    my_list[b] = my_list[c]\n",
    "    my_list[c] = temp\n",
    "    \n",
    "swap(my_list)\n",
    "print(my_list)"
   ]
  },
  {
   "cell_type": "markdown",
   "id": "dd9c7563",
   "metadata": {},
   "source": [
    "##### Q84. Write a Python program to find N largest element from a list.\n",
    "###### ANS :\n"
   ]
  },
  {
   "cell_type": "code",
   "execution_count": 11,
   "id": "29f472bf",
   "metadata": {},
   "outputs": [
    {
     "name": "stdout",
     "output_type": "stream",
     "text": [
      "Enter the list: 100 90 900 700 800\n",
      "900\n"
     ]
    }
   ],
   "source": [
    "my_list = list(map(int, input(\"Enter the list: \").split()))\n",
    "def max(my_list):\n",
    "    my_list.sort()\n",
    "    return my_list[-1]\n",
    "print(max(my_list))"
   ]
  },
  {
   "cell_type": "markdown",
   "id": "1b8995b4",
   "metadata": {},
   "source": [
    "##### Q85. Write a Python program to find cumulative sum of a list.\n",
    "###### ANS :\n"
   ]
  },
  {
   "cell_type": "code",
   "execution_count": 14,
   "id": "1c808e82",
   "metadata": {},
   "outputs": [
    {
     "name": "stdout",
     "output_type": "stream",
     "text": [
      "Enter the list: 1 2 3 4\n",
      "[1, 3, 6, 10]\n"
     ]
    }
   ],
   "source": [
    "my_list = list(map(int, input(\"Enter the list: \").split()))\n",
    "new_list=[]\n",
    "j=0\n",
    "for i in range(0,len(my_list)):\n",
    "    j += my_list[i]\n",
    "    new_list.append(j)\n",
    "     \n",
    "print(new_list)"
   ]
  },
  {
   "cell_type": "markdown",
   "id": "9f1d4dcf",
   "metadata": {},
   "source": [
    "##### Q86. Write a Python program to check if a string is palindrome or not.\n",
    "###### ANS :\n"
   ]
  },
  {
   "cell_type": "code",
   "execution_count": 1,
   "id": "b942d22d",
   "metadata": {},
   "outputs": [
    {
     "name": "stdout",
     "output_type": "stream",
     "text": [
      "Enter a string: 1 2 1\n",
      "1 2 1 is a palindrome\n"
     ]
    }
   ],
   "source": [
    "input_string = input(\"Enter a string: \")\n",
    "reverse_string = input_string[-1: : -1]\n",
    "\n",
    "if input_string == reverse_string:\n",
    "    print(input_string, \"is a palindrome\")\n",
    "else:\n",
    "    print(input_string, \"is NOT a palindrome\")"
   ]
  },
  {
   "cell_type": "markdown",
   "id": "bab13467",
   "metadata": {},
   "source": [
    "##### Q87. Write a Python program to remove i'th element from a string.\n",
    "###### ANS :\n"
   ]
  },
  {
   "cell_type": "code",
   "execution_count": 13,
   "id": "c3224791",
   "metadata": {},
   "outputs": [
    {
     "name": "stdout",
     "output_type": "stream",
     "text": [
      "Enter a string: hello\n",
      "enter the value for i: 1\n",
      "hllo\n"
     ]
    }
   ],
   "source": [
    "input_string = input(\"Enter a string: \")\n",
    "i = int(input(\"enter the value for i: \"))\n",
    "\n",
    "\n",
    "rem_str = input_string[:i] + input_string[i+1 : ]\n",
    "print(rem_str)"
   ]
  },
  {
   "cell_type": "markdown",
   "id": "17b59f74",
   "metadata": {},
   "source": [
    "##### Q88. Write a Python program to check if a substring is present in a given string.\n",
    "###### ANS :\n"
   ]
  },
  {
   "cell_type": "code",
   "execution_count": 2,
   "id": "a2e07cbf",
   "metadata": {},
   "outputs": [
    {
     "name": "stdout",
     "output_type": "stream",
     "text": [
      "Enter a string: vishal\n",
      "Enter a sub-string: vi\n",
      "vi  is present in  vishal\n"
     ]
    }
   ],
   "source": [
    "input_string = input(\"Enter a string: \")\n",
    "sub_string = input(\"Enter a sub-string: \")\n",
    "\n",
    "if sub_string in input_string:\n",
    "    print(sub_string, \" is present in \", input_string)\n",
    "else:\n",
    "    print(sub_string, \" is NOT present in \", input_string)"
   ]
  },
  {
   "cell_type": "markdown",
   "id": "045fa4a4",
   "metadata": {},
   "source": [
    "##### Q89. Write a Python program to find words which are greater than given length k.\n",
    "###### ANS :"
   ]
  },
  {
   "cell_type": "code",
   "execution_count": 14,
   "id": "93daf750",
   "metadata": {},
   "outputs": [
    {
     "name": "stdout",
     "output_type": "stream",
     "text": [
      "Enter a string: python java\n",
      "enter the value for i: 4\n",
      "1  words are greater than length  4\n"
     ]
    }
   ],
   "source": [
    "input_string = input(\"Enter a string: \").split()\n",
    "k = int(input(\"enter the value for i: \"))\n",
    "\n",
    "counter = 0\n",
    "\n",
    "for i in input_string:\n",
    "    if len(i) > k:\n",
    "        counter += 1\n",
    "\n",
    "print(counter, \" words are greater than length \", k)"
   ]
  },
  {
   "cell_type": "markdown",
   "id": "57a960fa",
   "metadata": {},
   "source": [
    "##### Q90. Write a Python program to extract unquire dictionary values.\n",
    "###### ANS :\n"
   ]
  },
  {
   "cell_type": "code",
   "execution_count": 34,
   "id": "9307be1a",
   "metadata": {},
   "outputs": [
    {
     "name": "stdout",
     "output_type": "stream",
     "text": [
      "Unique dictionary values are:  {'vishal', 1234567890, 'vnv@gmail.com', 20}\n"
     ]
    }
   ],
   "source": [
    "dict2 = {\n",
    "    \"name\"  : \"vishal\",\n",
    "    \"age\"   : 20,\n",
    "    \"email\" : \"vnv@gmail.com\",\n",
    "    \"number\": 1234567890,\n",
    "    \"age\"   : 20\n",
    "}\n",
    "\n",
    "unique_val = set(dict2.values())\n",
    "\n",
    "print(\"Unique dictionary values are: \", unique_val)"
   ]
  },
  {
   "cell_type": "markdown",
   "id": "1d27697b",
   "metadata": {},
   "source": [
    "##### Q91. Write a Python program to merge two dictionary.\n",
    "###### ANS :"
   ]
  },
  {
   "cell_type": "code",
   "execution_count": 51,
   "id": "45a9b9b4",
   "metadata": {},
   "outputs": [
    {
     "data": {
      "text/plain": [
       "{'1': 'varun',\n",
       " '2': 25,\n",
       " '3': 'xyz,pqr',\n",
       " '4': 'xyz,pqr',\n",
       " '5': 'abc@mail.com',\n",
       " 'name': 'vishal',\n",
       " 'age': 20,\n",
       " 'email': 'vnv@gmail.com',\n",
       " 'number': 1234567890,\n",
       " 'EDU': {'Diploma': 'IT', 'Engineering': 'IT', 'PHD': 'Data Science'}}"
      ]
     },
     "execution_count": 51,
     "metadata": {},
     "output_type": "execute_result"
    }
   ],
   "source": [
    "dict1 = {\n",
    "    \"1\" : \"varun\",\n",
    "    \"2\" : 25,\n",
    "    \"3\" : \"xyz,pqr\",\n",
    "    \"4\" : \"xyz,pqr\",\n",
    "    \"5\" : \"abc@mail.com\"\n",
    "}\n",
    "\n",
    "dict2 = {\n",
    "    \"name\"  : \"vishal\",\n",
    "    \"age\"   : 20,\n",
    "    \"email\" : \"vnv@gmail.com\",\n",
    "    \"number\": 1234567890,\n",
    "    \"EDU\"   :{\n",
    "                \"Diploma\"     : \"IT\",\n",
    "                \"Engineering\" : \"IT\",\n",
    "                \"PHD\"         : \"Data Science\"\n",
    "             }\n",
    "}\n",
    "\n",
    "res = {**dict1, **dict2}\n",
    "res"
   ]
  },
  {
   "cell_type": "markdown",
   "id": "15ec35bb",
   "metadata": {},
   "source": [
    "##### Q92. Write a Python program to convert a list of tuples into dictionary.\n",
    "###### ANS :\n",
    "\n",
    "    Input : [('Sachin', 10), ('MSD', 7), ('Kohli', 18), ('Rohit', 45)]\n",
    "    Output : {'Sachin': 10, 'MSD': 7, 'Kohli': 18, 'Rohit': 45}"
   ]
  },
  {
   "cell_type": "code",
   "execution_count": 65,
   "id": "c8deda4c",
   "metadata": {},
   "outputs": [
    {
     "name": "stdout",
     "output_type": "stream",
     "text": [
      "{'Sachin': 10, 'MSD': 7, 'Kohli': 18, 'Rohit': 45}\n"
     ]
    }
   ],
   "source": [
    "input_list = [('vishal', 10), ('varun', 7), ('mahesh', 18), ('rajesh', 45)]\n",
    "    \n",
    "output_val = {}\n",
    "\n",
    "for i in input_list:\n",
    "       \n",
    "    output_val[i[0]] = i[1]\n",
    "    \n",
    "print(output_val)"
   ]
  },
  {
   "cell_type": "markdown",
   "id": "51b9298a",
   "metadata": {},
   "source": [
    "##### Q93. Write a Python program to create a list of tuples from given list having number and its cube in each tuple.\n",
    "\n",
    "    Input: list = [9, 5, 6]\n",
    "    Output: [(9, 729), (5, 125), (6, 216)]\n",
    "\n",
    "###### ANS :"
   ]
  },
  {
   "cell_type": "code",
   "execution_count": 72,
   "id": "12ad672e",
   "metadata": {},
   "outputs": [
    {
     "name": "stdout",
     "output_type": "stream",
     "text": [
      "[(9, 729), (5, 125), (6, 216)]\n"
     ]
    }
   ],
   "source": [
    "input_val = [9, 5, 6]\n",
    "\n",
    "output = []\n",
    "\n",
    "for i in input_val:\n",
    "    output.append((i, i**3))\n",
    "    \n",
    "print(output)"
   ]
  },
  {
   "cell_type": "markdown",
   "id": "21c13dca",
   "metadata": {},
   "source": [
    "##### Q94. Write a Python program to get all combinations of 2 tuples.\n",
    "\n",
    "    Input : test_tuple1 = (7, 2), test_tuple2 = (7, 8)\n",
    "    Output : [(7, 7), (7, 8), (2, 7), (2, 8), (7, 7), (7, 2), (8, 7), (8, 2)]\n",
    "\n",
    "###### ANS :"
   ]
  },
  {
   "cell_type": "code",
   "execution_count": 86,
   "id": "229fb55a",
   "metadata": {},
   "outputs": [
    {
     "name": "stdout",
     "output_type": "stream",
     "text": [
      "[(7, 7), (7, 8), (2, 7), (2, 8), (7, 7), (7, 2), (8, 7), (8, 2)]\n"
     ]
    }
   ],
   "source": [
    "test_tuple1 = (7, 2)\n",
    "test_tuple2 = (7, 8)\n",
    "\n",
    "output = []\n",
    "for i in range(0, len(test_tuple1)):\n",
    "    for j in range(0, len(test_tuple2)):\n",
    "        output.append((test_tuple1[i], test_tuple2[j]))\n",
    "\n",
    "for i in range(0, len(test_tuple2)):\n",
    "    for j in range(0, len(test_tuple1)):\n",
    "        output.append((test_tuple2[i], test_tuple1[j]))\n",
    "        \n",
    "print(output)"
   ]
  },
  {
   "cell_type": "code",
   "execution_count": 85,
   "id": "4f9e5685",
   "metadata": {},
   "outputs": [
    {
     "name": "stdout",
     "output_type": "stream",
     "text": [
      "The tuple 1 : (7, 2)\n",
      "The tuple 2 : (7, 8)\n",
      "The resultant tuple : [(7, 7), (7, 8), (2, 7), (2, 8), (7, 7), (7, 2), (8, 7), (8, 2)]\n"
     ]
    }
   ],
   "source": [
    "from itertools import chain, product \n",
    "#  tuples\n",
    "tuple1 = (7, 2)\n",
    "tuple2 = (7, 8) \n",
    "#  original tuples\n",
    "print(\"The tuple 1 : \" + str(tuple1))\n",
    "print(\"The tuple 2 : \" + str(tuple2)) \n",
    "# All pair combinations of 2 tuples\n",
    "result = list(chain(product(tuple1, tuple2), product(tuple2, tuple1))) \n",
    "#  result \n",
    "print(\"The resultant tuple : \" + str(result))"
   ]
  },
  {
   "cell_type": "markdown",
   "id": "c901ac79",
   "metadata": {},
   "source": [
    "##### Q95. Write a Python program to sort a list of tuples by second item.\n",
    "\n",
    "    Input : [('for', 24), ('Geeks', 8), ('Geeks', 30)] \n",
    "    Output : [('Geeks', 8), ('for', 24), ('Geeks', 30)]\n",
    "\n",
    "###### ANS :\n",
    "\n"
   ]
  },
  {
   "cell_type": "code",
   "execution_count": 101,
   "id": "cf113d58",
   "metadata": {},
   "outputs": [
    {
     "name": "stdout",
     "output_type": "stream",
     "text": [
      "Orginal tuple:  [('for', 24), ('Geeks', 8), ('Geeks', 30)]\n",
      "After sorting by second element  [('Geeks', 8), ('Geeks', 30), ('for', 24)]\n"
     ]
    }
   ],
   "source": [
    "tuple_1 = [('for', 24), ('Geeks', 8), ('Geeks', 30)]\n",
    "print('Orginal tuple: ',tuple_1)\n",
    "\n",
    "tuple_1.sort(key=lambda i:i[0])\n",
    "print('After sorting by second element ',tuple_1)"
   ]
  },
  {
   "cell_type": "markdown",
   "id": "707f92e1",
   "metadata": {},
   "source": [
    "##### Q96. Write a python program to print below pattern.\n",
    "\n",
    "    * \n",
    "    * * \n",
    "    * * * \n",
    "    * * * * \n",
    "    * * * * * \n",
    "\n",
    "###### ANS :"
   ]
  },
  {
   "cell_type": "code",
   "execution_count": 157,
   "id": "5961c24f",
   "metadata": {},
   "outputs": [
    {
     "name": "stdout",
     "output_type": "stream",
     "text": [
      "Enter the no.5\n",
      "\n",
      "* \n",
      "* * \n",
      "* * * \n",
      "* * * * \n",
      "* * * * * \n"
     ]
    }
   ],
   "source": [
    "n= int(input('Enter the no.'))\n",
    "\n",
    "for i in range (0, n+1):\n",
    "    for j in range (1, i+1):\n",
    "    \n",
    "        print(\"*\", end =\" \")\n",
    "    print(\"\")"
   ]
  },
  {
   "cell_type": "markdown",
   "id": "f6b14780",
   "metadata": {},
   "source": [
    "##### Q97. Write a python program to print below pattern.\n",
    "\n",
    "        *\n",
    "       **\n",
    "      ***\n",
    "     ****\n",
    "    *****\n",
    "\n",
    "###### ANS :"
   ]
  },
  {
   "cell_type": "code",
   "execution_count": 156,
   "id": "a865e36e",
   "metadata": {},
   "outputs": [
    {
     "name": "stdout",
     "output_type": "stream",
     "text": [
      "Enter the no.6\n",
      "      \n",
      "     *\n",
      "    **\n",
      "   ***\n",
      "  ****\n",
      " *****\n"
     ]
    }
   ],
   "source": [
    "n= int(input('Enter the no.'))\n",
    "\n",
    "for i in range (n, 0, -1):\n",
    "    for j in range (1, i+1):\n",
    "    \n",
    "        print(\" \", end =\"\")\n",
    "    \n",
    "    for k in range (i+1, n+1):\n",
    "    \n",
    "        print(\"*\", end =\"\")\n",
    "    print(\"\")"
   ]
  },
  {
   "cell_type": "markdown",
   "id": "7666b6a1",
   "metadata": {},
   "source": [
    "##### Q98. Write a python program to print below pattern.\n",
    "\n",
    "\n",
    "        * \n",
    "       * * \n",
    "      * * * \n",
    "     * * * * \n",
    "    * * * * *\n",
    "    \n",
    "###### ANS :"
   ]
  },
  {
   "cell_type": "code",
   "execution_count": 155,
   "id": "3dc3d5fa",
   "metadata": {},
   "outputs": [
    {
     "name": "stdout",
     "output_type": "stream",
     "text": [
      "Enter the no.6\n",
      "      \n",
      "     * \n",
      "    * * \n",
      "   * * * \n",
      "  * * * * \n",
      " * * * * * \n"
     ]
    }
   ],
   "source": [
    "n= int(input('Enter the no.'))\n",
    "\n",
    "for i in range (n, 0, -1):\n",
    "    for j in range (1, i+1):\n",
    "    \n",
    "        print(\" \", end =\"\")\n",
    "    \n",
    "    for k in range (i+1, n+1):\n",
    "    \n",
    "        print(\"* \", end =\"\")\n",
    "    print(\"\")"
   ]
  },
  {
   "cell_type": "markdown",
   "id": "56b6d63c",
   "metadata": {},
   "source": [
    "##### Q99. Write a python program to print below pattern.\n",
    "\n",
    "\n",
    "    1 \n",
    "    1 2 \n",
    "    1 2 3 \n",
    "    1 2 3 4 \n",
    "    1 2 3 4 5\n",
    "###### ANS :"
   ]
  },
  {
   "cell_type": "code",
   "execution_count": 154,
   "id": "13ea8e04",
   "metadata": {},
   "outputs": [
    {
     "name": "stdout",
     "output_type": "stream",
     "text": [
      "Enter the no.5\n",
      "1 \n",
      "1 2 \n",
      "1 2 3 \n",
      "1 2 3 4 \n",
      "1 2 3 4 5 \n"
     ]
    }
   ],
   "source": [
    "n= int(input('Enter the no.'))\n",
    "\n",
    "for i in range (1, n+1):\n",
    "    for j in range (1, i+1):\n",
    "    \n",
    "        print(j, end =\" \")\n",
    "    print(\"\")\n",
    "    "
   ]
  },
  {
   "cell_type": "markdown",
   "id": "12c09cf9",
   "metadata": {},
   "source": [
    "##### Q100. Write a python program to print below pattern.\n",
    "\n",
    "    A \n",
    "    B B \n",
    "    C C C \n",
    "    D D D D \n",
    "    E E E E E \n",
    "###### ANS :\n",
    "\n"
   ]
  },
  {
   "cell_type": "code",
   "execution_count": 162,
   "id": "565f7a3d",
   "metadata": {},
   "outputs": [
    {
     "name": "stdout",
     "output_type": "stream",
     "text": [
      "A \n",
      "B B \n",
      "C C C \n",
      "D D D D \n",
      "E E E E E \n"
     ]
    }
   ],
   "source": [
    "for i in range (65,70):\n",
    "\n",
    "    for j in range(65,i+1):\n",
    "        print(chr(i),end=\" \")\n",
    "    print()"
   ]
  },
  {
   "cell_type": "code",
   "execution_count": null,
   "id": "d425ae23",
   "metadata": {},
   "outputs": [],
   "source": []
  }
 ],
 "metadata": {
  "kernelspec": {
   "display_name": "Python 3",
   "language": "python",
   "name": "python3"
  },
  "language_info": {
   "codemirror_mode": {
    "name": "ipython",
    "version": 3
   },
   "file_extension": ".py",
   "mimetype": "text/x-python",
   "name": "python",
   "nbconvert_exporter": "python",
   "pygments_lexer": "ipython3",
   "version": "3.8.8"
  }
 },
 "nbformat": 4,
 "nbformat_minor": 5
}
