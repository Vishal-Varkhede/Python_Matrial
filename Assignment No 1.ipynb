{
 "cells": [
  {
   "cell_type": "markdown",
   "id": "74d62d54",
   "metadata": {},
   "source": [
    "***\n",
    "## <p style=\"text-align:center\">  Assignment no 1:\n",
    "***"
   ]
  },
  {
   "cell_type": "markdown",
   "id": "cec57c2a",
   "metadata": {},
   "source": [
    "#####  ALL Questions: \n",
    "\n",
    "Q1. Why do we call Python as a general purpose and high-level programming language?\n",
    "\n",
    "Q2. Why is Python called a dynamically typed language?\n",
    "\n",
    "Q3. List some pros and cons of Python programming language?\n",
    "\n",
    "Q4. In what all domains can we use Python?\n",
    "\n",
    "Q5. What are variable and how can we declare them?\n",
    "\n",
    "Q6. How can we take an input from the user in Python?\n",
    "\n",
    "Q7. What is the default datatype of the value that has been taken as an input using input() function?\n",
    "\n",
    "Q8. What is type casting?\n",
    "\n",
    "Q9. Can we take more than one input from the user using single input() function? If yes, how? If no, why?\n",
    "\n",
    "Q10. What are keywords?\n",
    "\n",
    "Q11. Can we use keywords as a variable? Support your answer with reason.\n",
    "\n",
    "Q12. What is indentation? What's the use of indentaion in Python?\n",
    "\n",
    "Q13. How can we throw some output in Python?\n",
    "\n",
    "Q14. What are operators in Python?\n",
    "\n",
    "Q15. What is difference between / and // operators?\n",
    "\n",
    "Q16. Write a code that gives following as an output.\n",
    "```\n",
    "iNeuroniNeuroniNeuroniNeuron\n",
    "```\n",
    "\n",
    "Q17. Write a code to take a number as an input from the user and check if the number is odd or even.\n",
    "\n",
    "Q18. What are boolean operator?\n",
    "\n",
    "Q19. What will the output of the following?\n",
    "```\n",
    "1 or 0\n",
    "\n",
    "0 and 0\n",
    "\n",
    "True and False and True\n",
    "\n",
    "1 or 0 or 0\n",
    "```\n",
    "\n",
    "Q20. What are conditional statements in Python?\n",
    "\n",
    "Q21. What is use of 'if', 'elif' and 'else' keywords?\n",
    "\n",
    "Q22. Write a code to take the age of person as an input and if age >= 18 display \"I can vote\". If age is < 18 display \"I can't vote\".\n",
    "\n",
    "Q23. Write a code that displays the sum of all the even numbers from the given list.\n",
    "```\n",
    "numbers = [12, 75, 150, 180, 145, 525, 50]\n",
    "```\n",
    "\n",
    "\n",
    "Q24. Write a code to take 3 numbers as an input from the user and display the greatest no as output.\n",
    "\n",
    "Q25. Write a program to display only those numbers from a list that satisfy the following conditions\n",
    "\n",
    "- The number must be divisible by five\n",
    "\n",
    "- If the number is greater than 150, then skip it and move to the next number\n",
    "\n",
    "- If the number is greater than 500, then stop the loop\n",
    "```\n",
    "numbers = [12, 75, 150, 180, 145, 525, 50]\n",
    "```\n",
    "\n"
   ]
  },
  {
   "cell_type": "markdown",
   "id": "a3dcc622",
   "metadata": {},
   "source": [
    "#####  Q1:  Why do we call Python as a general purpose and high-level programming language?\n",
    "###### ANS :\n",
    " * Python is an emerging and very popular language and it is also considered a general-purpose programming language, the simple    reason is that it can be applied to several areas and in several places.\n",
    " * Python is a high-level programming language because it’s highly readable by humans. In fact, Python is among the highest-        level programming languages of all because it’s so close to the English language."
   ]
  },
  {
   "cell_type": "markdown",
   "id": "efe0f970",
   "metadata": {},
   "source": [
    "#####  Q2:  Why is Python called a dynamically typed language?\n",
    "###### ANS :\n",
    " * Python is called a dynamically typed language because in Python, the type of a variable is determined at runtime rather than    at compile time. In other words, you don't have to specify the data type of a variable when you declare it, and the type of a    variable can change during the execution of the program."
   ]
  },
  {
   "cell_type": "markdown",
   "id": "43bf52a7",
   "metadata": {},
   "source": [
    "#####  Q3:  List some pros and cons of Python programming language?\n",
    "###### ANS :\n",
    "###### Pros :\n",
    "\n",
    "    1: Beginner-friendly\n",
    "    2: Large Community\n",
    "    3: Flexible and Extensible\n",
    "    4: Extensive Libraries\n",
    "    5: Embeddable\n",
    "    6: Highly Scalable\n",
    "    7: IoT Opportunities\n",
    "    8: Portable\n",
    " \n",
    "###### Cons: \n",
    "    1: Issues with design\n",
    "    2: Slower than compiled languages\n",
    "    3: Security\n",
    "    4: Work Environment\n",
    "    5: High memory consumption\n",
    "    6: Dynamically-typed language\n",
    "    7: Complex multithreading\n",
    "    8: Garbage collection leads to potential memory losses"
   ]
  },
  {
   "cell_type": "markdown",
   "id": "4627b0be",
   "metadata": {},
   "source": [
    "##### Q4:In what all domains can we use Python?\n",
    "###### ANS : \n",
    "\n",
    "    1: Web and Internet Development\n",
    "    2: Scientific and Numeric\n",
    "    3: Software Development\n",
    "    4: Business Applications\n",
    "    5: Automation\n",
    "    6: AI & Machine Learning\n"
   ]
  },
  {
   "cell_type": "markdown",
   "id": "f59717b5",
   "metadata": {},
   "source": [
    "##### Q5:What are variable and how can we declare them?\n",
    "###### ANS : \n",
    "\n",
    "* Python Variable is containers which store values. Python is not “statically typed”. We do not need to declare variables before   using them or declare their type. A variable is created the moment we first assign a value to it. A Python variable is a name   given to a memory location. It is the basic unit of storage in a program.\n",
    "\n",
    "* Python has no command for declaring a variable.\n",
    "  A variable is created the moment you first assign a value to it.\n",
    "  x = 5\n",
    "  y = \"Vishal\""
   ]
  },
  {
   "cell_type": "markdown",
   "id": "1ab99bd5",
   "metadata": {},
   "source": [
    "##### Q6:How can we take an input from the user in Python?\n",
    "###### ANS : \n",
    "\n",
    "* Python allows for user input.\n",
    "  That means we are able to ask the user for input."
   ]
  },
  {
   "cell_type": "code",
   "execution_count": 1,
   "id": "258bea27",
   "metadata": {},
   "outputs": [
    {
     "name": "stdout",
     "output_type": "stream",
     "text": [
      "Enter username:vishal\n",
      "Username is: vishal\n"
     ]
    }
   ],
   "source": [
    "username = input(\"Enter username:\")\n",
    "print(\"Username is: \" + username)"
   ]
  },
  {
   "cell_type": "markdown",
   "id": "798f671a",
   "metadata": {},
   "source": [
    "##### Q7: What is the default datatype of the value that has been taken as an input using input() function?\n",
    "###### ANS : \n",
    "\n",
    "* The default datatype of the value that has been taken is \" String \""
   ]
  },
  {
   "cell_type": "markdown",
   "id": "a7f95be0",
   "metadata": {},
   "source": [
    "##### Q8: What is type casting?\n",
    "###### ANS : \n",
    "\n",
    "* Type Casting is the method to convert the variable data type into a certain data type in order to the operation required to be   performed by users."
   ]
  },
  {
   "cell_type": "markdown",
   "id": "ac969cd5",
   "metadata": {},
   "source": [
    "##### Q9: Can we take more than one input from the user using single input() function? If yes, how? If no, why?\n",
    "###### ANS : \n",
    "\n",
    "*  Yes we can take more than one input from the user using single input() function.\n",
    "   by using following synax:\n",
    "   \n",
    "   \" x, y = input().split() \""
   ]
  },
  {
   "cell_type": "markdown",
   "id": "941a0e58",
   "metadata": {},
   "source": [
    "##### Q10: What are keywords?\n",
    "###### ANS : \n",
    "\n",
    "* Keywords in Python are reserved words that can not be used as a variable name, function name, or any other identifier.\n"
   ]
  },
  {
   "cell_type": "markdown",
   "id": "5d2dae4a",
   "metadata": {},
   "source": [
    "##### Q11: Can we use keywords as a variable? Support your answer with reason.\n",
    "###### ANS : \n",
    "\n",
    "*  We cannot use a keyword as a variable name, function name, or any other identifier. \n",
    "   They are used to define the syntax and structure of the Python language.\n",
    "   All the keywords except True, False and None are in lowercase and they must be written as they are. "
   ]
  },
  {
   "cell_type": "markdown",
   "id": "fdf5b8fe",
   "metadata": {},
   "source": [
    "##### Q12: What is indentation? What's the use of indentaion in Python?\n",
    "###### ANS : \n",
    "\n",
    "* Indentation refers to the spaces at the beginning of a code line.\n",
    "* Indentation is a very important concept of Python because without proper indenting the Python code, you will end up seeing       IndentationError and the code will not get compiled. "
   ]
  },
  {
   "cell_type": "markdown",
   "id": "77776bef",
   "metadata": {},
   "source": [
    "##### Q13: How can we throw some output in Python?\n",
    "###### ANS : \n",
    "\n",
    "* Below is example"
   ]
  },
  {
   "cell_type": "code",
   "execution_count": 2,
   "id": "0b194b0e",
   "metadata": {},
   "outputs": [
    {
     "name": "stdout",
     "output_type": "stream",
     "text": [
      "Enter your name: vishal varkhede\n",
      "Hello, vishal varkhede\n"
     ]
    }
   ],
   "source": [
    "# Taking input from the user\n",
    "name = input(\"Enter your name: \")\n",
    "\n",
    "# Output\n",
    "print(\"Hello, \" + name)"
   ]
  },
  {
   "cell_type": "markdown",
   "id": "e212d585",
   "metadata": {},
   "source": [
    "##### Q14. What are operators in Python?\n",
    "###### ANS : \n",
    "*  Python Operators in general are used to perform operations on values and variables. These are standard symbols used for the      purpose of logical and arithmetic operations."
   ]
  },
  {
   "cell_type": "markdown",
   "id": "ccdb4415",
   "metadata": {},
   "source": [
    "##### Q15. What is difference between / and // operators?\n",
    "###### ANS : \n",
    "\n",
    "*  / → Floating point division\n",
    "\n",
    "* // → Floor division\n",
    "\n",
    "*  In Python 5 / 2 will return 2.5 and 5 // 2 will return 2. "
   ]
  },
  {
   "cell_type": "markdown",
   "id": "ddd9a510",
   "metadata": {},
   "source": [
    "##### Q16. Write a code that gives following as an output.\n",
    "#####          iNeuroniNeuroniNeuroniNeuron\n",
    "###### ANS : \n"
   ]
  },
  {
   "cell_type": "code",
   "execution_count": 7,
   "id": "f9323809",
   "metadata": {},
   "outputs": [
    {
     "name": "stdout",
     "output_type": "stream",
     "text": [
      "What is your name iNeuron\n",
      "iNeuroniNeuroniNeuroniNeuron\n"
     ]
    }
   ],
   "source": [
    "name = input('What is your name ')\n",
    "print(name*4)"
   ]
  },
  {
   "cell_type": "markdown",
   "id": "3930d498",
   "metadata": {},
   "source": [
    "##### Q17 Write a code to take a number as an input from the user and check if the number is odd or even. \n",
    "###### ANS : \n",
    "\n"
   ]
  },
  {
   "cell_type": "code",
   "execution_count": 11,
   "id": "a385d5ed",
   "metadata": {},
   "outputs": [
    {
     "name": "stdout",
     "output_type": "stream",
     "text": [
      "enter number2\n",
      "no is even\n"
     ]
    }
   ],
   "source": [
    "no = int(input(\"enter number\"))\n",
    "if no%2 == 0:\n",
    "    print(\"no is even\")\n",
    "else:\n",
    "    print(\"no is odd\")"
   ]
  },
  {
   "cell_type": "code",
   "execution_count": 12,
   "id": "8e38fa6c",
   "metadata": {},
   "outputs": [
    {
     "name": "stdout",
     "output_type": "stream",
     "text": [
      "enter number3\n",
      "no is odd\n"
     ]
    }
   ],
   "source": [
    "no = int(input(\"enter number\"))\n",
    "if no%2 == 0:\n",
    "    print(\"no is even\")\n",
    "else:\n",
    "    print(\"no is odd\")"
   ]
  },
  {
   "cell_type": "markdown",
   "id": "8c455aaa",
   "metadata": {},
   "source": [
    "##### Q18 What are boolean operator?\n",
    "###### ANS :  \n",
    "*  There are three Boolean operators in Python: and, or, and not."
   ]
  },
  {
   "cell_type": "markdown",
   "id": "80731ec1",
   "metadata": {},
   "source": [
    "##### Q19. What will the output of the following?\n",
    "\n",
    "    1 or 0\n",
    "\n",
    "    0 and 0\n",
    "\n",
    "    True and False and True\n",
    "\n",
    "    1 or 0 or 0\n",
    "\n",
    "###### ANS : \n",
    "\n",
    "    1: 1 \n",
    "    2: 0 \n",
    "    3: False \n",
    "    4: 1\n"
   ]
  },
  {
   "cell_type": "markdown",
   "id": "9268138a",
   "metadata": {},
   "source": [
    "##### Q20. What are conditional statements in Python? \n",
    "###### ANS : \n",
    "\n",
    "*  Conditional statements are the programming statements which alter the course of execution based on a condition.\n",
    "\n",
    "*  These statements are used when certain statements are to be executed based on certain condition."
   ]
  },
  {
   "cell_type": "markdown",
   "id": "689d82ca",
   "metadata": {},
   "source": [
    "##### Q21. What is use of 'if', 'elif' and 'else' keywords?\n",
    "\n",
    "##### ANS:\n",
    "\n",
    "*  These keywords are used when certain statements are to be executed based on certain condition.\n",
    "\n",
    "*  if is the starting condition, elif has the alternate conditions when the if condition fails. else statement doesn't require a    condition it is executed when all the other conditions are failed.\n",
    "\n",
    "    Ex;\n",
    "\n",
    "    if int(input_val) == 0: print(input_val, \" is a Zero\")\n",
    "\n",
    "    elif int(input_val) % 2 == 0: print(input_val, \" is an even number\")\n",
    "\n",
    "    elif int(input_val) % 2 == 1: print(input_val, \" is an odd number\")\n",
    "\n",
    "    else: print(input_val, \" is an Invalid input\")"
   ]
  },
  {
   "cell_type": "markdown",
   "id": "adebd67e",
   "metadata": {},
   "source": [
    "##### Q22. Write a code to take the age of person as an input and if age >= 18 display \"I can vote\".  If age is < 18 display \"I can't vote\".\n",
    "\n",
    "##### ANS:\n"
   ]
  },
  {
   "cell_type": "code",
   "execution_count": 15,
   "id": "57cf1ae2",
   "metadata": {},
   "outputs": [
    {
     "name": "stdout",
     "output_type": "stream",
     "text": [
      "enter age12\n",
      "I can't vote\n"
     ]
    }
   ],
   "source": [
    "age = int(input(\"enter age\"))\n",
    "if age>=18:\n",
    "    print(\"I can vote\")\n",
    "else:\n",
    "    print(\"I can't vote\")"
   ]
  },
  {
   "cell_type": "code",
   "execution_count": 16,
   "id": "205bc227",
   "metadata": {},
   "outputs": [
    {
     "name": "stdout",
     "output_type": "stream",
     "text": [
      "enter age20\n",
      "I can vote\n"
     ]
    }
   ],
   "source": [
    "age = int(input(\"enter age\"))\n",
    "if age>=18:\n",
    "    print(\"I can vote\")\n",
    "else:\n",
    "    print(\"I can't vote\")"
   ]
  },
  {
   "cell_type": "markdown",
   "id": "c9563ee4",
   "metadata": {},
   "source": [
    "##### Q23. Write a code that displays the sum of all the even numbers from the given list.\n",
    "*  numbers = [12, 75, 150, 180, 145, 525, 50]\n",
    "\n",
    "##### ANS:\n"
   ]
  },
  {
   "cell_type": "code",
   "execution_count": 23,
   "id": "d4bb925c",
   "metadata": {},
   "outputs": [
    {
     "name": "stdout",
     "output_type": "stream",
     "text": [
      "392\n"
     ]
    }
   ],
   "source": [
    "num = [12, 75, 150, 180, 145, 525, 50]\n",
    "sum = 0\n",
    "\n",
    "for i in num:\n",
    "    if i%2 == 0:\n",
    "        sum = sum+i\n",
    "        \n",
    "print(sum)"
   ]
  },
  {
   "cell_type": "markdown",
   "id": "370fdfbf",
   "metadata": {},
   "source": [
    "##### Q24. Write a code to take 3 numbers as an input from the user and display the greatest no as output.\n",
    "##### ANS:"
   ]
  },
  {
   "cell_type": "code",
   "execution_count": 25,
   "id": "6b051409",
   "metadata": {},
   "outputs": [
    {
     "name": "stdout",
     "output_type": "stream",
     "text": [
      "Enter three values: 2 4 6\n",
      "max number =  6\n"
     ]
    }
   ],
   "source": [
    "x, y, z = [int(x) for x in input(\"Enter three values: \").split(\" \")]\n",
    "\n",
    "max = x\n",
    "\n",
    "if y > max and z < y:\n",
    "    max = y\n",
    "    \n",
    "if z > max and y < z:\n",
    "    max = z\n",
    "\n",
    "print(\"max number = \", max)"
   ]
  },
  {
   "cell_type": "markdown",
   "id": "77ff08c9",
   "metadata": {},
   "source": [
    "##### Q25. Write a program to display only those numbers from a list that satisfy the following conditions\n",
    "\n",
    "The number must be divisible by five\n",
    "\n",
    "If the number is greater than 150, then skip it and move to the next number\n",
    "\n",
    "If the number is greater than 500, then stop the loop\n",
    "\n",
    "numbers = [12, 75, 150, 180, 145, 525, 50]\n",
    "\n",
    "##### ANS:"
   ]
  },
  {
   "cell_type": "code",
   "execution_count": 27,
   "id": "36038393",
   "metadata": {},
   "outputs": [
    {
     "name": "stdout",
     "output_type": "stream",
     "text": [
      "75\n",
      "150\n",
      "skipped the number  180  and continuing the loop\n",
      "145\n",
      "loop break for 525\n"
     ]
    }
   ],
   "source": [
    "numbers = [12, 75, 150, 180, 145, 525, 50]\n",
    "\n",
    "for num in numbers:\n",
    "    if num % 5 == 0:\n",
    "                \n",
    "        if num > 500:\n",
    "            print(\"loop break for\", num)\n",
    "            break\n",
    "            \n",
    "        if num > 150:\n",
    "            print(\"skipped the number \", num, \" and continuing the loop\")\n",
    "            continue\n",
    "            \n",
    "        print(num)"
   ]
  },
  {
   "cell_type": "code",
   "execution_count": null,
   "id": "7b1f18e8",
   "metadata": {},
   "outputs": [],
   "source": []
  }
 ],
 "metadata": {
  "kernelspec": {
   "display_name": "Python 3",
   "language": "python",
   "name": "python3"
  },
  "language_info": {
   "codemirror_mode": {
    "name": "ipython",
    "version": 3
   },
   "file_extension": ".py",
   "mimetype": "text/x-python",
   "name": "python",
   "nbconvert_exporter": "python",
   "pygments_lexer": "ipython3",
   "version": "3.8.8"
  }
 },
 "nbformat": 4,
 "nbformat_minor": 5
}
