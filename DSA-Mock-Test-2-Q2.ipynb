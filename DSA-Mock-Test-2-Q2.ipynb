{
 "cells": [
  {
   "cell_type": "markdown",
   "id": "e00e5eb3",
   "metadata": {},
   "source": [
    "Q2:\n",
    "You are given two non-empty linked lists representing two non-negative integers. The digits are stored in reverse order, and each of their nodes contains a single digit. Add the two numbers and return the sum as a linked list.\n",
    "\n",
    "You may assume the two numbers do not contain any leading zero, except the number 0 itself.\n",
    "\n",
    "\n",
    "Example 1:\n",
    "\n",
    "Input: l1 = [2,4,3], l2 = [5,6,4] Output: [7,0,8] Explanation: 342 + 465 = 807.\n",
    "\n",
    "Example 2:\n",
    "\n",
    "Input: l1 = [0], l2 = [0] Output: [0]\n",
    "\n",
    "Example 3:\n",
    "\n",
    "Input: l1 = [9,9,9,9,9,9,9], l2 = [9,9,9,9] Output: [8,9,9,9,0,0,0,1]\n",
    "\n",
    " \n",
    "\n",
    "Constraints:\n",
    "\n",
    "The number of nodes in each linked list is in the range [1, 100].\n",
    "0 <= Node.val <= 9 It is guaranteed that the list represents a number that does not have leading zeros"
   ]
  },
  {
   "cell_type": "code",
   "execution_count": 29,
   "id": "9f4fd55e",
   "metadata": {},
   "outputs": [
    {
     "name": "stdout",
     "output_type": "stream",
     "text": [
      "7 0 8 \n",
      "0 \n",
      "8 9 9 9 0 0 0 1 \n"
     ]
    }
   ],
   "source": [
    "class ListNode:\n",
    "    def __init__(self, val=0, next=None):\n",
    "        self.val = val\n",
    "        self.next = next\n",
    "\n",
    "def addTwoNumbers(l1: ListNode, l2: ListNode) -> ListNode:\n",
    "    dummy = ListNode(0)\n",
    "    current = dummy\n",
    "    carry = 0\n",
    "\n",
    "    while l1 or l2 or carry:\n",
    "        x = l1.val if l1 else 0\n",
    "        y = l2.val if l2 else 0\n",
    "\n",
    "        total = x + y + carry\n",
    "        carry = total // 10\n",
    "\n",
    "        current.next = ListNode(total % 10)\n",
    "        current = current.next\n",
    "\n",
    "        if l1:\n",
    "            l1 = l1.next\n",
    "        if l2:\n",
    "            l2 = l2.next\n",
    "\n",
    "    return dummy.next\n",
    "\n",
    "# Helper function to create a linked list from a list of values\n",
    "def createLinkedList(values):\n",
    "    dummy = ListNode(0)\n",
    "    current = dummy\n",
    "    for val in values:\n",
    "        current.next = ListNode(val)\n",
    "        current = current.next\n",
    "    return dummy.next\n",
    "\n",
    "# Helper function to print the values of a linked list\n",
    "def printLinkedList(head):\n",
    "    current = head\n",
    "    while current:\n",
    "        print(current.val, end=\" \")\n",
    "        current = current.next\n",
    "    print()\n",
    "\n",
    "# Example usage\n",
    "l1 = createLinkedList([2, 4, 3])\n",
    "l2 = createLinkedList([5, 6, 4])\n",
    "result = addTwoNumbers(l1, l2)\n",
    "printLinkedList(result)  # Output: 7 0 8\n",
    "\n",
    "l1 = createLinkedList([0])\n",
    "l2 = createLinkedList([0])\n",
    "result = addTwoNumbers(l1, l2)\n",
    "printLinkedList(result)\n",
    "\n",
    "l1 = createLinkedList([9, 9, 9, 9, 9, 9, 9])\n",
    "l2 = createLinkedList([9, 9, 9, 9])\n",
    "result = addTwoNumbers(l1, l2)\n",
    "printLinkedList(result)"
   ]
  },
  {
   "cell_type": "code",
   "execution_count": null,
   "id": "508d628d",
   "metadata": {},
   "outputs": [],
   "source": []
  },
  {
   "cell_type": "code",
   "execution_count": null,
   "id": "7b4b2c7b",
   "metadata": {},
   "outputs": [],
   "source": []
  },
  {
   "cell_type": "code",
   "execution_count": null,
   "id": "35964fba",
   "metadata": {},
   "outputs": [],
   "source": []
  }
 ],
 "metadata": {
  "kernelspec": {
   "display_name": "Python 3",
   "language": "python",
   "name": "python3"
  },
  "language_info": {
   "codemirror_mode": {
    "name": "ipython",
    "version": 3
   },
   "file_extension": ".py",
   "mimetype": "text/x-python",
   "name": "python",
   "nbconvert_exporter": "python",
   "pygments_lexer": "ipython3",
   "version": "3.8.8"
  }
 },
 "nbformat": 4,
 "nbformat_minor": 5
}
