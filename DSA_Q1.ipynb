{
 "cells": [
  {
   "cell_type": "code",
   "execution_count": 1,
   "id": "94dbf15b",
   "metadata": {},
   "outputs": [
    {
     "name": "stdout",
     "output_type": "stream",
     "text": [
      "[1, 3, 12, 0, 0]\n",
      "[0]\n"
     ]
    }
   ],
   "source": [
    "def moveZeroes(nums):\n",
    "    non_zero_index = 0\n",
    "    \n",
    "\n",
    "    for num in nums:\n",
    "        if num != 0:\n",
    "            nums[non_zero_index] = num\n",
    "            non_zero_index += 1\n",
    "    \n",
    "\n",
    "    while non_zero_index < len(nums):\n",
    "        nums[non_zero_index] = 0\n",
    "        non_zero_index += 1\n",
    "\n",
    "\n",
    "nums1 = [0, 1, 0, 3, 12]\n",
    "moveZeroes(nums1)\n",
    "print(nums1)  # Output: [1, 3, 12, 0, 0]\n",
    "\n",
    "nums2 = [0]\n",
    "moveZeroes(nums2)\n",
    "print(nums2)  # Output: [0]"
   ]
  },
  {
   "cell_type": "code",
   "execution_count": null,
   "id": "0fcbe686",
   "metadata": {},
   "outputs": [],
   "source": []
  }
 ],
 "metadata": {
  "kernelspec": {
   "display_name": "Python 3",
   "language": "python",
   "name": "python3"
  },
  "language_info": {
   "codemirror_mode": {
    "name": "ipython",
    "version": 3
   },
   "file_extension": ".py",
   "mimetype": "text/x-python",
   "name": "python",
   "nbconvert_exporter": "python",
   "pygments_lexer": "ipython3",
   "version": "3.8.8"
  }
 },
 "nbformat": 4,
 "nbformat_minor": 5
}
