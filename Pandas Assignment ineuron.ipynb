{
 "cells": [
  {
   "cell_type": "markdown",
   "id": "cf049e82",
   "metadata": {},
   "source": [
    "***\n",
    "## <p style=\"text-align:center\">Pandas Assignment:\n",
    "***\n",
    "\n"
   ]
  },
  {
   "cell_type": "markdown",
   "id": "26383e2d",
   "metadata": {},
   "source": [
    "#####  Q1. How do you load a CSV file into a Pandas DataFrame?\n",
    "\n",
    "    \n",
    "###### ANS :\n",
    "\n",
    "    import pandas as pd\n",
    "    DF = pd.read_csv(\"cricket.csv\")"
   ]
  },
  {
   "cell_type": "markdown",
   "id": "05346d67",
   "metadata": {},
   "source": [
    "#####  Q2. How do you check the data type of a column in a Pandas DataFrame?\n",
    "\n",
    "    \n",
    "###### ANS :\n",
    "     \n",
    "     df.dtypes"
   ]
  },
  {
   "cell_type": "markdown",
   "id": "a5f028ac",
   "metadata": {},
   "source": [
    "#####  Q3. How do you select rows from a Pandas DataFrame based on a condition?\n",
    "\n",
    "    \n",
    "###### ANS :\n",
    "    \n",
    "        df.loc[condition]\n"
   ]
  },
  {
   "cell_type": "markdown",
   "id": "947214de",
   "metadata": {},
   "source": [
    "#####  Q4. How do you rename columns in a Pandas DataFrame?\n",
    "\n",
    "    \n",
    "###### ANS :\n",
    "\n",
    "        df.rename()\n"
   ]
  },
  {
   "cell_type": "markdown",
   "id": "6612d40e",
   "metadata": {},
   "source": [
    "#####  Q5. How do you drop columns in a Pandas DataFrame?\n",
    "\n",
    "    \n",
    "###### ANS :\n",
    "        \n",
    "        df.drop('column name', axis=1, inplace=true)\n"
   ]
  },
  {
   "cell_type": "markdown",
   "id": "b56b7158",
   "metadata": {},
   "source": [
    "#####  Q6. How do you find the unique values in a column of a Pandas DataFrame?\n",
    "\n",
    "    \n",
    "###### ANS :\n",
    "        \n",
    "        df['column name'].unique()\n"
   ]
  },
  {
   "cell_type": "markdown",
   "id": "f7a1d82f",
   "metadata": {},
   "source": [
    "#####  Q7. How do you find the number of missing values in each column of a Pandas DataFrame?\n",
    "\n",
    "    \n",
    "###### ANS :\n",
    "        \n",
    "        df.isnull().sum()\n"
   ]
  },
  {
   "cell_type": "markdown",
   "id": "ef0fe244",
   "metadata": {},
   "source": [
    "#####  Q8. How do you fill missing values in a Pandas DataFrame with a specific value?\n",
    "\n",
    "    \n",
    "###### ANS :\n",
    "        \n",
    "        import pandas as pd\n",
    "\n",
    "        df = pd.read_csv('data.csv')\n",
    "\n",
    "        newdf = df.fillna(222222)\n",
    "        "
   ]
  },
  {
   "cell_type": "markdown",
   "id": "00f36926",
   "metadata": {},
   "source": [
    "#####  Q9. How do you concatenate two Pandas DataFrames?\n",
    "\n",
    "    \n",
    "###### ANS :\n",
    "    \n",
    "        df_concat = [df1, df2]\n",
    "        result = pd.concat(df_concat)"
   ]
  },
  {
   "cell_type": "markdown",
   "id": "89e4ddf1",
   "metadata": {},
   "source": [
    "#####  Q10. How do you merge two Pandas DataFrames on a specific column?\n",
    "\n",
    "    \n",
    "###### ANS :\n",
    "        \n",
    "        df1.merge(df2[['column1', 'column2', 'column3']])\n"
   ]
  },
  {
   "cell_type": "markdown",
   "id": "7a110870",
   "metadata": {},
   "source": [
    "#####  Q11. How do you group data in a Pandas DataFrame by a specific column and apply an aggregation function?\n",
    "\n",
    "    \n",
    "###### ANS :\n"
   ]
  },
  {
   "cell_type": "markdown",
   "id": "ded6020d",
   "metadata": {},
   "source": [
    "* The Pandas .groupby() method works in a very similar way to the SQL GROUP BY statement. In fact, it’s designed to mirror its SQL counterpart leverage its efficiencies and intuitiveness. Similar to the SQL GROUP BY statement, the Pandas method works by splitting our data, aggregating it in a given way (or ways), and re-combining the data in a meaningful way.\n",
    "\n",
    "\n",
    "* Because the .groupby() method works by first splitting the data, we can actually work with the groups directly. Similarly, because any aggregations are done following the splitting, we have full reign over how we aggregate the data. Pandas then handles how the data are combined in order to present a meaningful DataFrame.\n",
    "\n",
    "        result = df.groupby('Courses')\n",
    "        ['Fee','Discount'].aggregate('sum')\n",
    "        print(result)"
   ]
  },
  {
   "cell_type": "markdown",
   "id": "f5e02d77",
   "metadata": {},
   "source": [
    "#####  Q12. How do you pivot a Pandas DataFrame?\n",
    "\n",
    "    \n",
    "###### ANS :\n",
    "\n",
    "    df.pivot(index='  ', cloumn='    ', values='    ')"
   ]
  },
  {
   "cell_type": "code",
   "execution_count": 22,
   "id": "100af77b",
   "metadata": {},
   "outputs": [
    {
     "data": {
      "text/html": [
       "<div>\n",
       "<style scoped>\n",
       "    .dataframe tbody tr th:only-of-type {\n",
       "        vertical-align: middle;\n",
       "    }\n",
       "\n",
       "    .dataframe tbody tr th {\n",
       "        vertical-align: top;\n",
       "    }\n",
       "\n",
       "    .dataframe thead th {\n",
       "        text-align: right;\n",
       "    }\n",
       "</style>\n",
       "<table border=\"1\" class=\"dataframe\">\n",
       "  <thead>\n",
       "    <tr style=\"text-align: right;\">\n",
       "      <th></th>\n",
       "      <th>A</th>\n",
       "      <th>B</th>\n",
       "      <th>C</th>\n",
       "    </tr>\n",
       "  </thead>\n",
       "  <tbody>\n",
       "    <tr>\n",
       "      <th>0</th>\n",
       "      <td>John</td>\n",
       "      <td>Masters</td>\n",
       "      <td>27</td>\n",
       "    </tr>\n",
       "    <tr>\n",
       "      <th>1</th>\n",
       "      <td>Boby</td>\n",
       "      <td>Graduate</td>\n",
       "      <td>23</td>\n",
       "    </tr>\n",
       "    <tr>\n",
       "      <th>2</th>\n",
       "      <td>Mina</td>\n",
       "      <td>Graduate</td>\n",
       "      <td>21</td>\n",
       "    </tr>\n",
       "  </tbody>\n",
       "</table>\n",
       "</div>"
      ],
      "text/plain": [
       "      A         B   C\n",
       "0  John   Masters  27\n",
       "1  Boby  Graduate  23\n",
       "2  Mina  Graduate  21"
      ]
     },
     "execution_count": 22,
     "metadata": {},
     "output_type": "execute_result"
    }
   ],
   "source": [
    "import pandas as pd\n",
    "  \n",
    "# creating a dataframe\n",
    "df = pd.DataFrame({'A': ['John', 'Boby', 'Mina'],\n",
    "      'B': ['Masters', 'Graduate', 'Graduate'],\n",
    "      'C': [27, 23, 21]})\n",
    "  \n",
    "df"
   ]
  },
  {
   "cell_type": "code",
   "execution_count": 23,
   "id": "6440f90c",
   "metadata": {},
   "outputs": [
    {
     "data": {
      "text/html": [
       "<div>\n",
       "<style scoped>\n",
       "    .dataframe tbody tr th:only-of-type {\n",
       "        vertical-align: middle;\n",
       "    }\n",
       "\n",
       "    .dataframe tbody tr th {\n",
       "        vertical-align: top;\n",
       "    }\n",
       "\n",
       "    .dataframe thead tr th {\n",
       "        text-align: left;\n",
       "    }\n",
       "\n",
       "    .dataframe thead tr:last-of-type th {\n",
       "        text-align: right;\n",
       "    }\n",
       "</style>\n",
       "<table border=\"1\" class=\"dataframe\">\n",
       "  <thead>\n",
       "    <tr>\n",
       "      <th></th>\n",
       "      <th colspan=\"2\" halign=\"left\">C</th>\n",
       "      <th colspan=\"2\" halign=\"left\">A</th>\n",
       "    </tr>\n",
       "    <tr>\n",
       "      <th>B</th>\n",
       "      <th>Graduate</th>\n",
       "      <th>Masters</th>\n",
       "      <th>Graduate</th>\n",
       "      <th>Masters</th>\n",
       "    </tr>\n",
       "    <tr>\n",
       "      <th>A</th>\n",
       "      <th></th>\n",
       "      <th></th>\n",
       "      <th></th>\n",
       "      <th></th>\n",
       "    </tr>\n",
       "  </thead>\n",
       "  <tbody>\n",
       "    <tr>\n",
       "      <th>Boby</th>\n",
       "      <td>23</td>\n",
       "      <td>NaN</td>\n",
       "      <td>Boby</td>\n",
       "      <td>NaN</td>\n",
       "    </tr>\n",
       "    <tr>\n",
       "      <th>John</th>\n",
       "      <td>NaN</td>\n",
       "      <td>27</td>\n",
       "      <td>NaN</td>\n",
       "      <td>John</td>\n",
       "    </tr>\n",
       "    <tr>\n",
       "      <th>Mina</th>\n",
       "      <td>21</td>\n",
       "      <td>NaN</td>\n",
       "      <td>Mina</td>\n",
       "      <td>NaN</td>\n",
       "    </tr>\n",
       "  </tbody>\n",
       "</table>\n",
       "</div>"
      ],
      "text/plain": [
       "            C                A        \n",
       "B    Graduate Masters Graduate Masters\n",
       "A                                     \n",
       "Boby       23     NaN     Boby     NaN\n",
       "John      NaN      27      NaN    John\n",
       "Mina       21     NaN     Mina     NaN"
      ]
     },
     "execution_count": 23,
     "metadata": {},
     "output_type": "execute_result"
    }
   ],
   "source": [
    "df.pivot(index ='A', columns ='B', values =['C', 'A'])"
   ]
  },
  {
   "cell_type": "markdown",
   "id": "a019b404",
   "metadata": {},
   "source": [
    "#####  Q13. How do you change the data type of a column in a Pandas DataFrame?\n",
    "\n",
    "    \n",
    "###### ANS :"
   ]
  },
  {
   "cell_type": "code",
   "execution_count": 24,
   "id": "ac7455c2",
   "metadata": {},
   "outputs": [
    {
     "name": "stdout",
     "output_type": "stream",
     "text": [
      "A    object\n",
      "B    object\n",
      "C    object\n",
      "dtype: object\n"
     ]
    }
   ],
   "source": [
    "\n",
    "# importing pandas as pd\n",
    "import pandas as pd\n",
    " \n",
    "# sample dataframe\n",
    "df = pd.DataFrame({\n",
    "    'A': [1, 2, 3, 4, 5],\n",
    "    'B': ['a', 'b', 'c', 'd', 'e'],\n",
    "    'C': [1.1, '1.0', '1.3', 2, 5]})\n",
    " \n",
    "# converting all columns to string type\n",
    "df = df.astype(str)\n",
    "print(df.dtypes)"
   ]
  },
  {
   "cell_type": "code",
   "execution_count": 25,
   "id": "792fa809",
   "metadata": {},
   "outputs": [
    {
     "name": "stdout",
     "output_type": "stream",
     "text": [
      "Original_dtypes:\n",
      "name         object\n",
      "qualified    object\n",
      "dtype: object \n",
      "\n",
      "New_dtypes:\n",
      "name          string\n",
      "qualified    boolean\n",
      "dtype: object\n"
     ]
    }
   ],
   "source": [
    "import pandas as pd\n",
    " \n",
    "data = {\n",
    "  \"name\": [\"Aman\", \"Hardik\", pd.NA],\n",
    "  \"qualified\": [True, False, pd.NA]\n",
    "}\n",
    " \n",
    "df = pd.DataFrame(data)\n",
    " \n",
    "print(\"Original_dtypes:\")\n",
    "print(df.dtypes,\"\\n\")\n",
    " \n",
    "newdf = df.convert_dtypes()\n",
    " \n",
    "print(\"New_dtypes:\")\n",
    "print(newdf.dtypes)"
   ]
  },
  {
   "cell_type": "markdown",
   "id": "ba647349",
   "metadata": {},
   "source": [
    "#####  Q14. How do you sort a Pandas DataFrame by a specific column?\n",
    "\n",
    "    \n",
    "###### ANS :\n",
    "\n",
    "\n",
    "        df.sort_values('column name')"
   ]
  },
  {
   "cell_type": "markdown",
   "id": "2fed65dd",
   "metadata": {},
   "source": [
    "#####  Q15. How do you create a copy of a Pandas DataFrame?\n",
    "\n",
    "    \n",
    "###### ANS :"
   ]
  },
  {
   "cell_type": "code",
   "execution_count": 26,
   "id": "e46b601d",
   "metadata": {},
   "outputs": [
    {
     "name": "stdout",
     "output_type": "stream",
     "text": [
      "    name  qualified\n",
      "0  Sally       True\n",
      "1   Mary      False\n",
      "2   John      False\n"
     ]
    }
   ],
   "source": [
    "\n",
    "import pandas as pd\n",
    "\n",
    "data = {\n",
    "  \"name\": [\"Sally\", \"Mary\", \"John\"],\n",
    "  \"qualified\": [True, False, False]\n",
    "}\n",
    "\n",
    "df = pd.DataFrame(data)\n",
    "\n",
    "#Make a copy:\n",
    "\n",
    "newdf = df.copy()\n",
    "\n",
    "print(newdf)"
   ]
  },
  {
   "cell_type": "markdown",
   "id": "ab8011ac",
   "metadata": {},
   "source": [
    "#####  Q16. How do you filter rows of a Pandas DataFrame by multiple conditions?\n",
    "\n",
    "    \n",
    "###### ANS :"
   ]
  },
  {
   "cell_type": "code",
   "execution_count": 29,
   "id": "c5bb01ff",
   "metadata": {},
   "outputs": [
    {
     "name": "stdout",
     "output_type": "stream",
     "text": [
      "(array([0], dtype=int64),)\n"
     ]
    },
    {
     "data": {
      "text/html": [
       "<div>\n",
       "<style scoped>\n",
       "    .dataframe tbody tr th:only-of-type {\n",
       "        vertical-align: middle;\n",
       "    }\n",
       "\n",
       "    .dataframe tbody tr th {\n",
       "        vertical-align: top;\n",
       "    }\n",
       "\n",
       "    .dataframe thead th {\n",
       "        text-align: right;\n",
       "    }\n",
       "</style>\n",
       "<table border=\"1\" class=\"dataframe\">\n",
       "  <thead>\n",
       "    <tr style=\"text-align: right;\">\n",
       "      <th></th>\n",
       "      <th>Name</th>\n",
       "      <th>Age</th>\n",
       "      <th>Salary</th>\n",
       "      <th>JOB</th>\n",
       "    </tr>\n",
       "  </thead>\n",
       "  <tbody>\n",
       "    <tr>\n",
       "      <th>0</th>\n",
       "      <td>RACHEL</td>\n",
       "      <td>30</td>\n",
       "      <td>100000</td>\n",
       "      <td>DESIGNER</td>\n",
       "    </tr>\n",
       "  </tbody>\n",
       "</table>\n",
       "</div>"
      ],
      "text/plain": [
       "        Name  Age  Salary       JOB\n",
       "0   RACHEL     30  100000  DESIGNER"
      ]
     },
     "metadata": {},
     "output_type": "display_data"
    }
   ],
   "source": [
    "import pandas as pd\n",
    "import numpy as np\n",
    " \n",
    "dataFrame = pd.DataFrame({'Name': [' RACHEL  ', ' MONICA  ', ' PHOEBE  ',\n",
    "                                   '  ROSS    ', 'CHANDLER', ' JOEY    '],\n",
    "                           \n",
    "                          'Age': [30, 35, 37, 33, 34, 30],\n",
    "                           \n",
    "                          'Salary': [100000, 93000, 88000, 120000, 94000, 95000],\n",
    "                           \n",
    "                          'JOB': ['DESIGNER', 'CHEF', 'MASUS', 'PALENTOLOGY',\n",
    "                                  'IT', 'ARTIST']})\n",
    " \n",
    "# filter dataframe                                  \n",
    "filtered_values = np.where((dataFrame['Salary']>=100000) & (dataFrame['Age']< 40) & (dataFrame['JOB'].str.startswith('D')))\n",
    "print(filtered_values)\n",
    "display(dataFrame.loc[filtered_values])"
   ]
  },
  {
   "cell_type": "code",
   "execution_count": 31,
   "id": "9f052c94",
   "metadata": {},
   "outputs": [
    {
     "data": {
      "text/html": [
       "<div>\n",
       "<style scoped>\n",
       "    .dataframe tbody tr th:only-of-type {\n",
       "        vertical-align: middle;\n",
       "    }\n",
       "\n",
       "    .dataframe tbody tr th {\n",
       "        vertical-align: top;\n",
       "    }\n",
       "\n",
       "    .dataframe thead th {\n",
       "        text-align: right;\n",
       "    }\n",
       "</style>\n",
       "<table border=\"1\" class=\"dataframe\">\n",
       "  <thead>\n",
       "    <tr style=\"text-align: right;\">\n",
       "      <th></th>\n",
       "      <th>Name</th>\n",
       "      <th>JOB</th>\n",
       "    </tr>\n",
       "  </thead>\n",
       "  <tbody>\n",
       "    <tr>\n",
       "      <th>0</th>\n",
       "      <td>RACHEL</td>\n",
       "      <td>DESIGNER</td>\n",
       "    </tr>\n",
       "  </tbody>\n",
       "</table>\n",
       "</div>"
      ],
      "text/plain": [
       "        Name       JOB\n",
       "0   RACHEL    DESIGNER"
      ]
     },
     "metadata": {},
     "output_type": "display_data"
    }
   ],
   "source": [
    "import pandas as pd\n",
    " \n",
    "\n",
    "dataFrame = pd.DataFrame({'Name': [' RACHEL  ', ' MONICA  ', ' PHOEBE  ',\n",
    "                                   '  ROSS    ', 'CHANDLER', ' JOEY    '],\n",
    "                           \n",
    "                          'Age': [30, 35, 37, 33, 34, 30],\n",
    "                           \n",
    "                          'Salary': [100000, 93000, 88000, 120000, 94000, 95000],\n",
    "                           \n",
    "                          'JOB': ['DESIGNER', 'CHEF', 'MASUS', 'PALENTOLOGY',\n",
    "                                  'IT', 'ARTIST']})\n",
    "# filter dataframe\n",
    "display(dataFrame.loc[(dataFrame['Salary']>=100000) & (dataFrame['Age']< 40) & (dataFrame['JOB'].str.startswith('D')),\n",
    "                    ['Name','JOB']])"
   ]
  },
  {
   "cell_type": "markdown",
   "id": "4e6bd82e",
   "metadata": {},
   "source": [
    "#####  Q17. How do you calculate the mean of a column in a Pandas DataFrame?\n",
    "\n",
    "    \n",
    "###### ANS :\n",
    "\n"
   ]
  },
  {
   "cell_type": "code",
   "execution_count": 33,
   "id": "7d569400",
   "metadata": {},
   "outputs": [
    {
     "data": {
      "text/html": [
       "<div>\n",
       "<style scoped>\n",
       "    .dataframe tbody tr th:only-of-type {\n",
       "        vertical-align: middle;\n",
       "    }\n",
       "\n",
       "    .dataframe tbody tr th {\n",
       "        vertical-align: top;\n",
       "    }\n",
       "\n",
       "    .dataframe thead th {\n",
       "        text-align: right;\n",
       "    }\n",
       "</style>\n",
       "<table border=\"1\" class=\"dataframe\">\n",
       "  <thead>\n",
       "    <tr style=\"text-align: right;\">\n",
       "      <th></th>\n",
       "      <th>player</th>\n",
       "      <th>points</th>\n",
       "      <th>assists</th>\n",
       "      <th>rebounds</th>\n",
       "    </tr>\n",
       "  </thead>\n",
       "  <tbody>\n",
       "    <tr>\n",
       "      <th>0</th>\n",
       "      <td>A</td>\n",
       "      <td>25</td>\n",
       "      <td>5</td>\n",
       "      <td>NaN</td>\n",
       "    </tr>\n",
       "    <tr>\n",
       "      <th>1</th>\n",
       "      <td>B</td>\n",
       "      <td>20</td>\n",
       "      <td>7</td>\n",
       "      <td>8.0</td>\n",
       "    </tr>\n",
       "    <tr>\n",
       "      <th>2</th>\n",
       "      <td>C</td>\n",
       "      <td>14</td>\n",
       "      <td>7</td>\n",
       "      <td>10.0</td>\n",
       "    </tr>\n",
       "    <tr>\n",
       "      <th>3</th>\n",
       "      <td>D</td>\n",
       "      <td>16</td>\n",
       "      <td>8</td>\n",
       "      <td>6.0</td>\n",
       "    </tr>\n",
       "    <tr>\n",
       "      <th>4</th>\n",
       "      <td>E</td>\n",
       "      <td>27</td>\n",
       "      <td>5</td>\n",
       "      <td>6.0</td>\n",
       "    </tr>\n",
       "    <tr>\n",
       "      <th>5</th>\n",
       "      <td>F</td>\n",
       "      <td>20</td>\n",
       "      <td>7</td>\n",
       "      <td>9.0</td>\n",
       "    </tr>\n",
       "    <tr>\n",
       "      <th>6</th>\n",
       "      <td>G</td>\n",
       "      <td>12</td>\n",
       "      <td>6</td>\n",
       "      <td>6.0</td>\n",
       "    </tr>\n",
       "    <tr>\n",
       "      <th>7</th>\n",
       "      <td>H</td>\n",
       "      <td>15</td>\n",
       "      <td>9</td>\n",
       "      <td>10.0</td>\n",
       "    </tr>\n",
       "    <tr>\n",
       "      <th>8</th>\n",
       "      <td>I</td>\n",
       "      <td>14</td>\n",
       "      <td>9</td>\n",
       "      <td>10.0</td>\n",
       "    </tr>\n",
       "    <tr>\n",
       "      <th>9</th>\n",
       "      <td>J</td>\n",
       "      <td>19</td>\n",
       "      <td>5</td>\n",
       "      <td>7.0</td>\n",
       "    </tr>\n",
       "  </tbody>\n",
       "</table>\n",
       "</div>"
      ],
      "text/plain": [
       "  player  points  assists  rebounds\n",
       "0      A      25        5       NaN\n",
       "1      B      20        7       8.0\n",
       "2      C      14        7      10.0\n",
       "3      D      16        8       6.0\n",
       "4      E      27        5       6.0\n",
       "5      F      20        7       9.0\n",
       "6      G      12        6       6.0\n",
       "7      H      15        9      10.0\n",
       "8      I      14        9      10.0\n",
       "9      J      19        5       7.0"
      ]
     },
     "execution_count": 33,
     "metadata": {},
     "output_type": "execute_result"
    }
   ],
   "source": [
    "import pandas as pd\n",
    "import numpy as np\n",
    "\n",
    "\n",
    "df = pd.DataFrame({'player': ['A', 'B', 'C', 'D', 'E', 'F', 'G', 'H', 'I', 'J'],\n",
    "                   'points': [25, 20, 14, 16, 27, 20, 12, 15, 14, 19],\n",
    "                   'assists': [5, 7, 7, 8, 5, 7, 6, 9, 9, 5],\n",
    "                   'rebounds': [np.nan, 8, 10, 6, 6, 9, 6, 10, 10, 7]})\n",
    "\n",
    "df"
   ]
  },
  {
   "cell_type": "code",
   "execution_count": 34,
   "id": "ca7f26c7",
   "metadata": {},
   "outputs": [
    {
     "data": {
      "text/plain": [
       "18.2"
      ]
     },
     "execution_count": 34,
     "metadata": {},
     "output_type": "execute_result"
    }
   ],
   "source": [
    "df['points'].mean()"
   ]
  },
  {
   "cell_type": "code",
   "execution_count": 36,
   "id": "8a8283a3",
   "metadata": {},
   "outputs": [
    {
     "data": {
      "text/plain": [
       "rebounds     8.0\n",
       "points      18.2\n",
       "dtype: float64"
      ]
     },
     "execution_count": 36,
     "metadata": {},
     "output_type": "execute_result"
    }
   ],
   "source": [
    "df[['rebounds', 'points']].mean()\n"
   ]
  },
  {
   "cell_type": "markdown",
   "id": "7910b5e1",
   "metadata": {},
   "source": [
    "#####  Q18. How do you calculate the standard deviation of a column in a Pandas DataFrame?\n",
    "\n",
    "    \n",
    "###### ANS :"
   ]
  },
  {
   "cell_type": "markdown",
   "id": "ce42b22a",
   "metadata": {},
   "source": [
    "    You can use the DataFrame.std () function to calculate the standard deviation of values in a pandas DataFrame. \n",
    "    You can use the following methods to calculate the standard deviation in practice: \n",
    "\n",
    "    Method 1: Calculate Standard Deviation of One Column df['column_name'].std() \n",
    "    Method 2: Calculate Standard Deviation of Multiple Columns"
   ]
  },
  {
   "cell_type": "markdown",
   "id": "7718fd4f",
   "metadata": {},
   "source": [
    "#####  Q19. How do you calculate the correlation between two columns in a Pandas DataFrame?\n",
    "\n",
    "    \n",
    "###### ANS :"
   ]
  },
  {
   "cell_type": "markdown",
   "id": "b98e5798",
   "metadata": {},
   "source": [
    "Correlation is used to summarize the strength and direction of the linear association between two quantitative \n",
    "variables. \n",
    "\n",
    "It is denoted by r and values between -1 and +1. A positive value for r indicates a positive association, and a negative value for r indicates a negative association.\n",
    "\n",
    "By using corr() function we can get the correlation between two columns in the dataframe."
   ]
  },
  {
   "cell_type": "code",
   "execution_count": 39,
   "id": "830c1a26",
   "metadata": {},
   "outputs": [
    {
     "name": "stdout",
     "output_type": "stream",
     "text": [
      "   column1  column2  column3\n",
      "0       12       67       34\n",
      "1       23       54       23\n",
      "2       45       32       56\n",
      "3       67        1       23\n",
      "-0.9970476685163736\n",
      "0.07346999975265099\n",
      "0.0\n"
     ]
    }
   ],
   "source": [
    "import pandas as pd\n",
    " \n",
    "\n",
    "data = pd.DataFrame({\n",
    "    \"column1\": [12, 23, 45, 67],\n",
    "    \"column2\": [67, 54, 32, 1],\n",
    "    \"column3\": [34, 23, 56, 23]\n",
    "}\n",
    ")\n",
    "# display dataframe\n",
    "print(data)\n",
    " \n",
    "# correlation between column 1 and column2\n",
    "print(data['column1'].corr(data['column2']))\n",
    " \n",
    "# correlation between column 2 and column3\n",
    "print(data['column2'].corr(data['column3']))\n",
    " \n",
    "# correlation between column 1 and column3\n",
    "print(data['column1'].corr(data['column3']))"
   ]
  },
  {
   "cell_type": "markdown",
   "id": "17547f76",
   "metadata": {},
   "source": [
    "#####  Q20. How do you select specific columns in a DataFrame using their labels?\n",
    "\n",
    "    \n",
    "###### ANS :\n",
    "\n",
    "\n",
    "\n",
    "    df.loc['colmn name']"
   ]
  },
  {
   "cell_type": "markdown",
   "id": "7846f5d0",
   "metadata": {},
   "source": [
    "#####  Q21. How do you select specific rows in a DataFrame using their indexes?\n",
    "\n",
    "    \n",
    "###### ANS :\n",
    "\n",
    "\n",
    "\n",
    "        df.iloc['colmn name']\n"
   ]
  },
  {
   "cell_type": "markdown",
   "id": "fdb0ea90",
   "metadata": {},
   "source": [
    "#####  Q22. How do you sort a DataFrame by a specific column?\n",
    "\n",
    "    \n",
    "###### ANS :\n",
    "\n",
    "        df.sort_values('column name')"
   ]
  },
  {
   "cell_type": "markdown",
   "id": "1878ae3c",
   "metadata": {},
   "source": [
    "#####  Q23. How do you create a new column in a DataFrame based on the values of another column?\n",
    "\n",
    "    \n",
    "###### ANS :\n"
   ]
  },
  {
   "cell_type": "code",
   "execution_count": 47,
   "id": "9d1401cf",
   "metadata": {},
   "outputs": [
    {
     "name": "stdout",
     "output_type": "stream",
     "text": [
      "        Date    Event   Cost  Discounted_Price\n",
      "0  10/2/2011    Music  10000            9000.0\n",
      "1  11/2/2011   Poetry   5000            4500.0\n",
      "2  12/2/2011  Theatre  15000           13500.0\n",
      "3  13/2/2011   Comedy   2000            1800.0\n"
     ]
    }
   ],
   "source": [
    "import pandas as pd\n",
    " \n",
    "df = pd.DataFrame({'Date':['10/2/2011', '11/2/2011', '12/2/2011', '13/2/2011'],\n",
    "                    'Event':['Music', 'Poetry', 'Theatre', 'Comedy'],\n",
    "                    'Cost':[10000, 5000, 15000, 2000]})\n",
    " \n",
    "# Create a new column 'Discounted_Price' after applying\n",
    "# 10% discount on the existing 'Cost' column.\n",
    " \n",
    "# create a new column\n",
    "df['Discounted_Price'] = df['Cost'] - (0.1 * df['Cost'])\n",
    " \n",
    "# Print the DataFrame after\n",
    "# addition of new column\n",
    "print(df)"
   ]
  },
  {
   "cell_type": "markdown",
   "id": "4a6a82f5",
   "metadata": {},
   "source": [
    "#####  Q24. How do you remove duplicates from a DataFrame?\n",
    "\n",
    "    \n",
    "###### ANS :\n"
   ]
  },
  {
   "cell_type": "code",
   "execution_count": 42,
   "id": "a82d4da0",
   "metadata": {},
   "outputs": [
    {
     "name": "stdout",
     "output_type": "stream",
     "text": [
      "    name  age  qualified\n",
      "0  Sally   50       True\n",
      "1   Mary   40      False\n",
      "2   John   30      False\n"
     ]
    }
   ],
   "source": [
    "\n",
    "import pandas as pd\n",
    "\n",
    "data = {\n",
    "  \"name\": [\"Sally\", \"Mary\", \"John\", \"Mary\"],\n",
    "  \"age\": [50, 40, 30, 40],\n",
    "  \"qualified\": [True, False, False, False]\n",
    "}\n",
    "\n",
    "df = pd.DataFrame(data)\n",
    "\n",
    "newdf = df.drop_duplicates()\n",
    "\n",
    "print(newdf)\n"
   ]
  },
  {
   "cell_type": "markdown",
   "id": "e5c5c764",
   "metadata": {},
   "source": [
    "#####  Q25. What is the difference between .loc and .iloc in Pandas?\n",
    "\n",
    "    \n",
    "###### ANS :\n",
    "\n",
    "\n",
    "        The main difference between pandas loc[] vs iloc[] \n",
    "        is loc[] gets DataFrame rows & columns by labels/names and \n",
    "        iloc[] gets by integer Index/position."
   ]
  },
  {
   "cell_type": "markdown",
   "id": "b13a6b5a",
   "metadata": {},
   "source": [
    "##### -----------------------------------------------------------------------------------------------------------------"
   ]
  },
  {
   "cell_type": "code",
   "execution_count": null,
   "id": "dd5c8eaa",
   "metadata": {},
   "outputs": [],
   "source": []
  }
 ],
 "metadata": {
  "kernelspec": {
   "display_name": "Python 3",
   "language": "python",
   "name": "python3"
  },
  "language_info": {
   "codemirror_mode": {
    "name": "ipython",
    "version": 3
   },
   "file_extension": ".py",
   "mimetype": "text/x-python",
   "name": "python",
   "nbconvert_exporter": "python",
   "pygments_lexer": "ipython3",
   "version": "3.8.8"
  }
 },
 "nbformat": 4,
 "nbformat_minor": 5
}
