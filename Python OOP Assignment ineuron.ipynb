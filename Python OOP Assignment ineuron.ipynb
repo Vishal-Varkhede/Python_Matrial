{
 "cells": [
  {
   "cell_type": "markdown",
   "id": "c2781232",
   "metadata": {},
   "source": [
    "***\n",
    "## <p style=\"text-align:center\">Python OOP Assignment:\n",
    "***"
   ]
  },
  {
   "cell_type": "markdown",
   "id": "48e26e49",
   "metadata": {},
   "source": [
    "#####  1. What is the purpose of Python's OOP?\n",
    "\n",
    "    \n",
    "###### ANS :\n",
    "\n",
    "* The purpose of Python's object-oriented programming (OOP) features is to provide a way to organize and structure code in a way that is efficient and easy to understand and maintain. \n",
    "\n",
    "\n",
    "* OOP allows for the creation of reusable code, encapsulation of data, and the ability to model real-world objects and \n",
    "    their interactions within a program.\n",
    "    \n",
    "    \n",
    "* This can make it easier to design, debug, and modify a program as it grows in complexity."
   ]
  },
  {
   "cell_type": "markdown",
   "id": "58e23d4f",
   "metadata": {},
   "source": [
    "#####  Q2. Where does an inheritance search look for an attribute?\n",
    "\n",
    "    \n",
    "###### ANS :\n",
    "\n"
   ]
  },
  {
   "cell_type": "markdown",
   "id": "96009aa9",
   "metadata": {},
   "source": [
    "* When an attribute is accessed on an object, the interpreter performs a search for the attribute starting with the object's class, and then moving up the class hierarchy. \n",
    "\n",
    "* This is known as the \"method resolution order\" (MRO).\n",
    "\n",
    "* The interpreter looks for the attribute in the following order:\n",
    "\n",
    "* The object's own dictionary, The class's dictionary, The base class's dictionary and so on, until the entire inheritance tree has been searched."
   ]
  },
  {
   "cell_type": "markdown",
   "id": "3d7a3116",
   "metadata": {},
   "source": [
    "#####  Q3. How do you distinguish between a class object and an instance object?\n",
    "\n",
    "    \n",
    "###### ANS :"
   ]
  },
  {
   "cell_type": "markdown",
   "id": "965dfc8f",
   "metadata": {},
   "source": [
    "* A class object is a blueprint for creating instances. It defines the properties and methods that instances of the class will have. It is created when the class is defined, and it remains in memory until the program ends. It can also be used to create new instances of the class.\n",
    "\n",
    "\n",
    "* An instance object, on the other hand, is an actual object that is created by calling the class object. It is created at runtime and is specific to a given set of property values. Each instance object has its own set of properties and methods, which are defined by the class object. It also can have its own state and behavior, which may differ from other instances of the same class. \n",
    "\n",
    "    1 : class Car: \n",
    "            def init(self, make, model): \n",
    "                self.make = make self.model = model\n",
    "\n",
    "    2 : ford = Car('Ford', 'Mustang') \n",
    "\n",
    "\n",
    "* Here, the class Car is a class object and ford is an instance object."
   ]
  },
  {
   "cell_type": "markdown",
   "id": "a3ab20e8",
   "metadata": {},
   "source": [
    "#####  Q4. What makes the first argument in a class’s method function special?\n",
    "\n",
    "    \n",
    "###### ANS :"
   ]
  },
  {
   "cell_type": "markdown",
   "id": "bf764032",
   "metadata": {},
   "source": [
    "The first argument in a class method function is always the instance object that the method is being called on. \n",
    "By convention, this argument is named `self`.\n",
    "\n",
    "For example, consider the following class:\n",
    "\n",
    "\n",
    "    class MyClass:\n",
    "        def my_method(self, x):\n",
    "            self.x = x\n",
    "\n",
    "\n",
    "In this class, `my_method` is a method that takes an argument `x` and sets an attribute `x` on the instance object. The `self` argument refers to the instance object that the method is being called on.\n",
    "\n",
    "When you call the method on an instance of the class, the instance object is automatically passed as the first argument:\n",
    "\n",
    "\n",
    "    my_object = MyClass()\n",
    "    my_object.my_method(42)\n",
    "\n",
    "\n",
    "In this example, `my_object` is an instance of the `MyClass` class, and the `my_method` method is being called on it with an argument of `42`. The `self` argument is automatically set to `my_object`, so the `x` attribute is set on `my_object`."
   ]
  },
  {
   "cell_type": "markdown",
   "id": "5e6c7c69",
   "metadata": {},
   "source": [
    "#####  Q5. What is the purpose of the '__init__' method?\n",
    "\n",
    "    \n",
    "###### ANS :"
   ]
  },
  {
   "cell_type": "markdown",
   "id": "d24ad703",
   "metadata": {},
   "source": [
    "* The init method is also called as constructor method. \n",
    "* The purpose of the init method is to initialize the state of a new instance of a class when it is created. \n",
    "* It sets the initial values for the instance's properties and also allows the user to set initial values for properties when the instance is created."
   ]
  },
  {
   "cell_type": "markdown",
   "id": "d60a582f",
   "metadata": {},
   "source": [
    "#####  Q6. What is the process for creating a class instance?\n",
    "\n",
    "    \n",
    "###### ANS :"
   ]
  },
  {
   "cell_type": "markdown",
   "id": "a58f6ca5",
   "metadata": {},
   "source": [
    "* The purpose of creating a class instance is to instantiate an object that belongs to a specific class, which allows you to access and utilize the attributes and methods defined in the class. \n",
    "* It is a way to create an object with its own unique set of characteristics and behavior."
   ]
  },
  {
   "cell_type": "code",
   "execution_count": 13,
   "id": "fd20a319",
   "metadata": {},
   "outputs": [],
   "source": [
    "class employee:\n",
    "    def __init__(self, name):\n",
    "        self.name = name\n",
    "    \n",
    "    def print_name(self):\n",
    "        print(f\"The name of the employee is {self.name}\")\n"
   ]
  },
  {
   "cell_type": "code",
   "execution_count": 14,
   "id": "6753b009",
   "metadata": {},
   "outputs": [
    {
     "name": "stdout",
     "output_type": "stream",
     "text": [
      "The name of the employee is Vishal\n"
     ]
    }
   ],
   "source": [
    "e = employee(\"Vishal\")\n",
    "e.print_name()"
   ]
  },
  {
   "cell_type": "markdown",
   "id": "a7dcd8ec",
   "metadata": {},
   "source": [
    "#####  Q7. What is the process for creating a class?\n",
    "\n",
    "    \n",
    "###### ANS :"
   ]
  },
  {
   "cell_type": "markdown",
   "id": "8980e707",
   "metadata": {},
   "source": [
    "    1 : Choose a name for the class and start with the \"class\" keyword, followed by the class name and a colon.\n",
    "    \n",
    "    2 : Define class attributes, which can include instance variables and class variables. \n",
    "        These are typically defined inside the class but outside of any methods.\n",
    "        \n",
    "    3 : Define the class's constructor method, init, which is called when an object is created \n",
    "        from the class and is used to initialize the object's attributes.\n",
    "        \n",
    "    4 : Define any additional behavior methods as needed. These are defined using the same syntax as any other function.\n",
    "    \n",
    "    5 : End the class definition with a newline."
   ]
  },
  {
   "cell_type": "code",
   "execution_count": 17,
   "id": "5c1101e0",
   "metadata": {},
   "outputs": [],
   "source": [
    "class student:\n",
    "    def __init__(self, name, age):\n",
    "        self.name = name\n",
    "        self.age = age\n",
    "    \n",
    "    def print_name_age(self):\n",
    "        print(f\"The name of the student is {self.name}\")\n",
    "        print(f\"The age of the {self.name} is {self.age}\")"
   ]
  },
  {
   "cell_type": "code",
   "execution_count": 18,
   "id": "4c785afb",
   "metadata": {},
   "outputs": [
    {
     "name": "stdout",
     "output_type": "stream",
     "text": [
      "The name of the student is Vishal\n",
      "The age of the Vishal is 25\n"
     ]
    }
   ],
   "source": [
    "s = student(\"Vishal\",25)\n",
    "s.print_name_age()"
   ]
  },
  {
   "cell_type": "markdown",
   "id": "49d79cb8",
   "metadata": {},
   "source": [
    "#####  Q8. How would you define the superclasses of a class?\n",
    "\n",
    "    \n",
    "###### ANS :"
   ]
  },
  {
   "cell_type": "markdown",
   "id": "d48e7ec1",
   "metadata": {},
   "source": [
    "* In object-oriented programming, a class can inherit attributes and behavior from one or more superclasses, which are also known as base classes or parent classes. \n",
    "* The process of defining a class's superclasses is called inheritance."
   ]
  },
  {
   "cell_type": "code",
   "execution_count": 20,
   "id": "56ea227b",
   "metadata": {},
   "outputs": [],
   "source": [
    "class Robot:\n",
    "    def __init__(self, name):\n",
    "        self.name = name\n",
    "    def say_hi(self):\n",
    "        print(\"Hi, I am \" + self.name)\n",
    "class PhysicianRobot(Robot):\n",
    "    pass"
   ]
  },
  {
   "cell_type": "code",
   "execution_count": 21,
   "id": "5fb97e2b",
   "metadata": {},
   "outputs": [
    {
     "name": "stdout",
     "output_type": "stream",
     "text": [
      "Hi, I am Vishal\n"
     ]
    }
   ],
   "source": [
    "pr = PhysicianRobot(\"Vishal\")\n",
    "pr.say_hi()\n"
   ]
  },
  {
   "cell_type": "markdown",
   "id": "5c00ab32",
   "metadata": {},
   "source": [
    "#####  Q9. What is the relationship between classes and modules?\n",
    "\n",
    "    \n",
    "###### ANS :"
   ]
  },
  {
   "cell_type": "markdown",
   "id": "9170d1c6",
   "metadata": {},
   "source": [
    "* A module is a file containing definitions and statements, while a class is a blueprint for creating objects. \n",
    "* The relationship between classes and modules is that classes are defined within modules. \n",
    "* A module can contain one or more classes, as well as other definitions and statements.\n",
    "* Modules provide a way to organize and structure your code into reusable and self-contained units. You can import the module and its classes into other parts of your code to use its functionality."
   ]
  },
  {
   "cell_type": "markdown",
   "id": "0115257b",
   "metadata": {},
   "source": [
    "#####  Q10. How do you make instances and classes?\n",
    "\n",
    "    \n",
    "###### ANS :"
   ]
  },
  {
   "cell_type": "code",
   "execution_count": 44,
   "id": "c1704915",
   "metadata": {},
   "outputs": [],
   "source": [
    "class Employee: \n",
    "    def __init__(self, name, age): \n",
    "        self.name   = name \n",
    "        self.age = age\n",
    "\n",
    "    def displayInfo(self):\n",
    "        print(f'Employee name is {self.name} and age is {self.age}')             \n"
   ]
  },
  {
   "cell_type": "code",
   "execution_count": 45,
   "id": "7705fe70",
   "metadata": {},
   "outputs": [
    {
     "name": "stdout",
     "output_type": "stream",
     "text": [
      "Employee name is vishal and age is 25\n"
     ]
    }
   ],
   "source": [
    "emp1 = Employee('vishal', 25)\n",
    "emp1.displayInfo()"
   ]
  },
  {
   "cell_type": "markdown",
   "id": "e859848c",
   "metadata": {},
   "source": [
    "#####  Q11. Where and how should be class attributes created?\n",
    "\n",
    "    \n",
    "###### ANS :"
   ]
  },
  {
   "cell_type": "markdown",
   "id": "fd170fa0",
   "metadata": {},
   "source": [
    "* Class attributes in Python can be created either directly within a class definition, or outside of a class definition, but within the same module.\n",
    "\n",
    "\n",
    "    withing class : class MyClass: class_attribute = 42\n",
    "\n",
    "    outside class : class_attribute = 42\n",
    "\n",
    "    class MyClass: pass"
   ]
  },
  {
   "cell_type": "markdown",
   "id": "f664887f",
   "metadata": {},
   "source": [
    "#####  Q12. Where and how are instance attributes created?\n",
    "\n",
    "    \n",
    "###### ANS :\n"
   ]
  },
  {
   "cell_type": "markdown",
   "id": "2b1ffca1",
   "metadata": {},
   "source": [
    "* Instance attributes in Python are created within the init method of a class. \n",
    "* The init method is a special method that is automatically called when a new instance of a class is created.\n",
    "    \n",
    "    class MyClass: \n",
    "        def init(self): \n",
    "            self.instance_attribute = 42"
   ]
  },
  {
   "cell_type": "markdown",
   "id": "af8fd79e",
   "metadata": {},
   "source": [
    "#####  Q13. What does the term \"self\" in a Python class mean?\n",
    "\n",
    "    \n",
    "###### ANS :"
   ]
  },
  {
   "cell_type": "markdown",
   "id": "6e863e7c",
   "metadata": {},
   "source": [
    "* The term self in a Python class refers to the instance of the class. \n",
    "* It is a convention to use self as the first parameter of each method in a class. \n",
    "* When you call a method on an instance of a class, the instance is automatically passed as the first argument to the method, and this argument is stored in self.\n",
    "\n",
    "    class MyClass: \n",
    "        def init(self, attribute_value): \n",
    "            self.attribute = attribute_value"
   ]
  },
  {
   "cell_type": "markdown",
   "id": "4b16b2a9",
   "metadata": {},
   "source": [
    "#####  Q14. How does a Python class handle operator overloading?\n",
    "\n",
    "    \n",
    "###### ANS :\n"
   ]
  },
  {
   "cell_type": "markdown",
   "id": "cb76ecb7",
   "metadata": {},
   "source": [
    "* In Python, operator overloading is accomplished by defining special methods in a class with a double underscore (__) prefix and a suffix that corresponds to the operator being overloaded. \n",
    "\n",
    "* The operator overloading in Python means provide extended meaning beyond their predefined operational meaning. \n",
    "    Such as, we use the \"+\" operator for adding two integers as well as joining two strings or merging two lists."
   ]
  },
  {
   "cell_type": "code",
   "execution_count": 103,
   "id": "60a5b514",
   "metadata": {},
   "outputs": [
    {
     "name": "stdout",
     "output_type": "stream",
     "text": [
      "15\n",
      "HiHello\n"
     ]
    }
   ],
   "source": [
    "class A:\n",
    "    def __init__(self, a):\n",
    "        self.a = a\n",
    "        #self.b = b\n",
    "    def __add__(self, a):\n",
    "        return self.a + a.a\n",
    "\n",
    "obj1 = A(5)\n",
    "obj2 = A(10)\n",
    "obj3 = A('Hi')\n",
    "obj4 = A('Hello')\n",
    "print(obj1 + obj2)\n",
    "print(obj3 + obj4)"
   ]
  },
  {
   "cell_type": "markdown",
   "id": "31d09030",
   "metadata": {},
   "source": [
    "#####  Q15. When do you consider allowing operator overloading of your classes?\n",
    "\n",
    "    \n",
    "###### ANS :\n"
   ]
  },
  {
   "cell_type": "markdown",
   "id": "36eb52fc",
   "metadata": {},
   "source": [
    "* operator when used with instances of a class. This can make code using the class more readable and expressive, but it can also be confusing if the overloaded operator does not match the expected behavior.\n",
    "\n",
    "    Consistency: If you allow operator overloading in a class, it is important to ensure that the overloaded operators behave consistently with other classes in the same domain.\n",
    "\n",
    "    Complexity: Overloading operators can add complexity to a class, as well as to the code that uses the class. This can make the class harder to maintain and understand.\n",
    "\n",
    "    Clarity: Operator overloading can make code using the class more concise and readable, but it can also make the code more difficult to understand if the overloaded operators have unexpected or non-standard behavior."
   ]
  },
  {
   "cell_type": "markdown",
   "id": "2a1aaa7d",
   "metadata": {},
   "source": [
    "#####  Q16. What is the most popular form of operator overloading?\n",
    "\n",
    "    \n",
    "###### ANS :\n",
    "\n"
   ]
  },
  {
   "cell_type": "markdown",
   "id": "39f9f2f5",
   "metadata": {},
   "source": [
    "* The most popular form of operator overloading in Python is overloading arithmetic operators, such as addition (+), subtraction (-), multiplication (*), and division (/). \n",
    "\n",
    "\n",
    "* Overloading these operators is common in mathematical classes, such as matrices or complex numbers, where the operations are used to perform calculations on instances of the class."
   ]
  },
  {
   "cell_type": "markdown",
   "id": "bee80f1b",
   "metadata": {},
   "source": [
    "#####  Q17. What are the two most important concepts to grasp in order to comprehend Python OOP code?\n",
    "\n",
    "    \n",
    "###### ANS :\n",
    "\n",
    "\n",
    "* To comprehend Python OOP (Object-Oriented Programming) code, two of the most important concepts to grasp are:\n",
    "\n",
    "    1: Classes: Classes are user-defined blueprint or prototype for objects, providing a means of grouping data and methods that operate on that data within a single unit.\n",
    "\n",
    "    2: Objects: Objects are instances of a class, created at runtime, that can contain data and methods. Objects inherit the attributes and methods defined in the class, and can also have their own unique attributes and methods."
   ]
  },
  {
   "cell_type": "markdown",
   "id": "7eac2822",
   "metadata": {},
   "source": [
    "#####  Q18. Describe three applications for exception processing.\n",
    "\n",
    "    \n",
    "###### ANS :\n",
    "\n",
    "\n",
    "* Input validation: Exception handling can be used to validate user input and ensure that it meets certain conditions before being processed. For example, you might use exception handling to check that a user has entered a valid integer value before converting it to an int.\n",
    "\n",
    "\n",
    "* Resource management: Exception handling can be used to manage resources, such as files or network connections, that need to be opened and closed properly. For example, you might use exception handling to ensure that a file is closed properly even if an error occurs while reading it.\n",
    "\n",
    "\n",
    "* Error reporting: Exception handling can be used to provide meaningful error messages to the user when something goes wrong in your code. For example, you might use exception handling to catch a specific error and provide a user-friendly error message, rather than a stack trace."
   ]
  },
  {
   "cell_type": "markdown",
   "id": "e80794eb",
   "metadata": {},
   "source": [
    "#####  Q19. What happens if you don't do something extra to treat an exception?\n",
    "\n",
    "    \n",
    "###### ANS :\n",
    "\n",
    "* If you don't do anything to treat an exception in your code, it will propagate up the call stack until it is caught by the Python interpreter or reaches the top-level code. When this happens, the interpreter will terminate your program and display an error message, also known as a traceback.\n",
    "\n",
    "\n",
    "* The traceback will contain information about the exception that was raised, including the type of the exception, the location in your code where it was raised, and a description of the error. \n",
    "\n",
    "\n",
    "* The traceback can be helpful for debugging your code and understanding what went wrong, but it may not be user-friendly or appropriate to display to an end-user.\n",
    "\n",
    "\n",
    "* By not treating the exception, your program will terminate abnormally and may not complete the intended tasks. This can result in unexpected behavior, lost data, or other unintended consequences, depending on the specific situation."
   ]
  },
  {
   "cell_type": "markdown",
   "id": "3fed31cc",
   "metadata": {},
   "source": [
    "#####  Q20. What are your options for recovering from an exception in your script?\n",
    "\n",
    "    \n",
    "###### ANS :\n",
    "\n",
    "* Logging the exception: You can choose to log the exception, along with any relevant information, such as the location in your code where it was raised and the type of the exception. Logging the exception can be useful for debugging your code and tracking down the root cause of the problem.\n",
    "\n",
    "\n",
    "* Displaying an error message: You can choose to display an error message to the user, indicating that an exception has occurred and providing any relevant information, such as what the user can do to resolve the issue.\n",
    "\n",
    "\n",
    "* Retrying the operation: You can choose to retry the operation that caused the exception, if it is safe to do so and you believe that the error may have been temporary.\n",
    "\n",
    "\n",
    "* Terminating the program: You can choose to terminate the program gracefully, after cleaning up any resources that have been allocated and storing any data that needs to be saved.\n",
    "\n",
    "\n",
    "* Propagating the exception: You can choose to propagate the exception to a higher level of the call stack, where it can be handled by a more general handler or by the Python interpreter."
   ]
  },
  {
   "cell_type": "markdown",
   "id": "af56f436",
   "metadata": {},
   "source": [
    "#####  Q21. Describe two methods for triggering exceptions in your script?\n",
    "\n",
    "    \n",
    "###### ANS :\n",
    "\n",
    "* Raising exceptions explicitly: You can raise exceptions explicitly by using the raise statement. The raise statement allows you to throw an exception of any type, including built-in exception types or custom exception types that you have defined. You can provide a message or additional information to the exception, which can be used to provide more context to the error.\n",
    "\n",
    "\n",
    "* Triggering exceptions implicitly: Certain operations in Python can trigger exceptions implicitly, without the need for an explicit raise statement. For example, dividing by zero, accessing an index that is out of range, or trying to access an undefined variable will all trigger exceptions implicitly."
   ]
  },
  {
   "cell_type": "markdown",
   "id": "24ff06c7",
   "metadata": {},
   "source": [
    "#####  Q22. Identify two methods for specifying actions to be executed at termination time, regardless of whether or not an exception exists?\n",
    "\n",
    "    \n",
    "###### ANS :\n",
    "\n",
    "There are two methods for specifying actions to be executed at termination time in Python:\n",
    "Using the \"finally\" clause in a try-except block: The \"finally\" clause is used to specify actions that will always be executed, regardless of whether an exception occurs or not. \n",
    "\n",
    "The syntax for using the \"finally\" clause is:\n",
    "\n",
    "try:\n",
    "\n",
    "code that might raise an exception\n",
    "\n",
    "except [ExceptionType1 [as var1]]:\n",
    "\n",
    "code to handle ExceptionType1\n",
    "\n",
    "except [ExceptionType2 [as var2]]:\n",
    "\n",
    "code to handle ExceptionType2\n",
    "\n",
    "finally:\n",
    "\n",
    "code that will always be executed\n",
    "\n",
    "    Using the \"with\" statement: \n",
    "        \n",
    "        The \"with\" statement is used to wrap the execution of a block of code to ensure that specified cleanup actions \n",
    "        are always executed, regardless of whether an exception occurs or not. \n",
    "        \n",
    "        The syntax for using the \"with\" statement is:\n",
    "        with open(\"file.txt\", \"r\") as file:"
   ]
  },
  {
   "cell_type": "markdown",
   "id": "fad512e9",
   "metadata": {},
   "source": [
    "##### Q23. What is the purpose of the try statement?\n",
    "\n",
    "    \n",
    "###### ANS :\n",
    "\n",
    "* The try block is used to check some code for errors i.e the code inside the try block will execute when there is no error in the program."
   ]
  },
  {
   "cell_type": "markdown",
   "id": "566aa784",
   "metadata": {},
   "source": [
    "##### Q24. What are the two most popular try statement variations?\n",
    "\n",
    "    \n",
    "###### ANS :\n",
    "\n",
    "* Try-Except: The try-except statement is used to handle exceptions that occur during the execution of a program.\n",
    "    If an exception occurs in the try block, the corresponding except block is executed to handle the exception. If no exception occurs, the except block is skipped.\n",
    "\n",
    "\n",
    "* Try-Finally: The try-finally statement is used to specify actions that will always be executed, regardless of whether an exception occurs or not.\n",
    "    The code inside the finally block is executed whether an exception occurs or not, and is typically used for cleanup operations such as closing files, releasing resources, or undoing actions."
   ]
  },
  {
   "cell_type": "markdown",
   "id": "e35a172d",
   "metadata": {},
   "source": [
    "##### Q25. What is the purpose of the raise statement?\n",
    "\n",
    "    \n",
    "###### ANS :\n",
    "\n",
    "\n",
    "* The raise statement in Python is used to raise an exception. It can be used to raise a specific exception or to re-raise the current exception. raise ExceptionType(\"error message\") The purpose of the raise statement is to force the program to raise an exception, either to signal an error condition or to indicate that some specific action has failed. \n",
    "\n",
    "\n",
    "* This allows you to create custom exception types and to propagate exceptions up the call stack, making it easier to handle and diagnose errors."
   ]
  },
  {
   "cell_type": "markdown",
   "id": "f1f3d190",
   "metadata": {},
   "source": [
    "##### Q26. What does the assert statement do, and what other statement is it like?\n",
    "\n",
    "    \n",
    "###### ANS :\n",
    "\n",
    "* The assert statement in Python is used to check if a given condition is True, and if it is not, raise an AssertionError. assert condition, error_message The condition is the expression that you want to test, and the error_message is an optional string that will be displayed if the condition is False.\n",
    "\n",
    "\n",
    "* The purpose of the assert statement is to provide a simple and readable way to check for error conditions in your code. If the condition is False, the AssertionError is raised, indicating that an error has occurred and that further action is needed to resolve it.The assert statement is similar to a if statement."
   ]
  },
  {
   "cell_type": "markdown",
   "id": "864db8bb",
   "metadata": {},
   "source": [
    "##### Q27. What is the purpose of the with/as argument, and what other statement is it like?\n",
    "\n",
    "    \n",
    "###### ANS :\n",
    "\n",
    "* The purpose of the with statement is to ensure that the expression is properly managed and cleaned up, even if an exception occurs during the execution of the code block. The expression is evaluated, and its result is assigned to the variable if the as clause is used.\n",
    "\n",
    "\n",
    "* The with statement provides a convenient and readable way to manage resources such as files, sockets, and databases, and to ensure that resources are properly acquired and released. The with statement also makes it easy to handle exceptions that might occur while accessing these resources.\n",
    "  \n",
    "  with open(\"example.txt\", \"r\") as f: contents = f.read() # do something with contents\n",
    "\n",
    "\n",
    "* The with statement is similar to the try-finally statement, with the difference that the with statement is more concise and easier to read, and also provides a more convenient way to manage resources."
   ]
  },
  {
   "cell_type": "markdown",
   "id": "3c9d7166",
   "metadata": {},
   "source": [
    "##### Q28. What are *args, **kwargs?\n",
    "\n",
    "    \n",
    "###### ANS :\n"
   ]
  },
  {
   "cell_type": "markdown",
   "id": "03e181b0",
   "metadata": {},
   "source": [
    "    *args is used to send a non-keyworded variable length argument list to the function. Essentially, it allows you to \n",
    "    pass a variable number of arguments to the function, which are then collected into a tuple. \n",
    "    The syntax for using *args is as \n",
    "    follows: def function_name(*args): # function body\n",
    "\n",
    "    **kwargs' is used to pass keyworded variable length of arguments to a function. It allows you to pass keyworded \n",
    "    arguments to the function, where the keywords are mapped to a dictionary, and the values of the arguments are stored \n",
    "    in the dictionary. The syntax for using **kwargs is as follows: def function_name(**kwargs): # function body"
   ]
  },
  {
   "cell_type": "markdown",
   "id": "1894d2b1",
   "metadata": {},
   "source": [
    "##### Q29. How can I pass optional or keyword parameters from one function to another?\n",
    "\n",
    "    \n",
    "###### ANS :\n"
   ]
  },
  {
   "cell_type": "markdown",
   "id": "ab244cfe",
   "metadata": {},
   "source": [
    "* You can pass optional or keyword parameters from one function to another in Python by using default values for the parameters in the second function and passing the arguments as keyword arguments when calling the second function from the first.\n",
    "\n",
    "    For example, let's say you have two functions: first_function and second_function. first_function calls second_function, and you want to pass an optional parameter param1 with a default value of None to \n",
    "    \n",
    "    second_function: def second_function(param1=None): # function body\n",
    "\n",
    "    def first_function(): # function body second_function(param1=\"Hello\")\n",
    "\n",
    "\n",
    "* You can also pass keyword parameters from one function to another using the **kwargs syntax. **kwargs allows you to pass any number of keyword arguments as a dictionary to the function. For example: def second_function(**kwargs): param1 = kwargs.get(\"param1\", None) # function body\n",
    "\n",
    "    def first_function(): # function body kwargs = {\"param1\": \"Hello\"} second_function(**kwargs)"
   ]
  },
  {
   "cell_type": "markdown",
   "id": "8d87e760",
   "metadata": {},
   "source": [
    "##### Q30. What are Lambda Functions?\n",
    "\n",
    "    \n",
    "###### ANS :"
   ]
  },
  {
   "cell_type": "markdown",
   "id": "6ca40fdd",
   "metadata": {},
   "source": [
    "* Lambda functions in Python are small, anonymous functions that are defined using the lambda keyword. \n",
    "\n",
    "\n",
    "* They are often used as an alternative to writing a full-fledged function using the def keyword. Lambda functions are often used in combination with higher-order functions, such as map, filter, and reduce, to perform operations on lists or other data structures.\n",
    "\n",
    "    square = lambda x: x**2 square(5) 25\n",
    "\n",
    "\n",
    "* lambda functions are limited in their functionality and can only contain a single expression. For more complex operations, it's usually better to write a full-fledged function using the def keyword."
   ]
  },
  {
   "cell_type": "markdown",
   "id": "48241512",
   "metadata": {},
   "source": [
    "##### Q31. Explain Inheritance in Python with an example?\n",
    "\n",
    "    \n",
    "###### ANS :"
   ]
  },
  {
   "cell_type": "markdown",
   "id": "059f939c",
   "metadata": {},
   "source": [
    "* Inheritance is a fundamental concept in object-oriented programming (OOP) that allows you to create new classes based on existing classes. The new class inherits attributes and behaviors from the existing class and can add new attributes and behaviors of its own. This helps you to reuse existing code and build new classes more easily."
   ]
  },
  {
   "cell_type": "code",
   "execution_count": 125,
   "id": "4a37e8a7",
   "metadata": {},
   "outputs": [
    {
     "name": "stdout",
     "output_type": "stream",
     "text": [
      "vishal varkhede\n",
      "vishal varkhede, A102\n"
     ]
    }
   ],
   "source": [
    "class Person:\n",
    "\n",
    "    def __init__(self, first, last):\n",
    "        self.firstn = first\n",
    "        self.lastn = last\n",
    "\n",
    "    def Name(self):\n",
    "        return self.firstn + \" \" + self.lastn\n",
    "\n",
    "class Emp(Person):\n",
    "\n",
    "    def __init__(self, first, last, staffnum):\n",
    "        Person.__init__(self,first, last)\n",
    "        self.staffno = staffnum\n",
    "\n",
    "    def GetEmp(self):\n",
    "        return self.Name() + \", \" +  self.staffno\n",
    "\n",
    "a = Person(\"vishal\", \"varkhede\")\n",
    "b = Emp(\"vishal\", \"varkhede\", \"A102\")\n",
    "\n",
    "print(a.Name())\n",
    "print(b.GetEmp())"
   ]
  },
  {
   "cell_type": "markdown",
   "id": "73de3676",
   "metadata": {},
   "source": [
    "##### Q32. Suppose class C inherits from classes A and B as classm C(A,B).Classes A and B both have their own versions of method func().\n",
    "####                If we call func() from an object of class C, which version gets invoked?\n",
    "    \n",
    "###### ANS :\n"
   ]
  },
  {
   "cell_type": "markdown",
   "id": "5669412e",
   "metadata": {},
   "source": [
    "* when a class inherits from multiple classes (also known as multiple inheritance), the method resolution order (MRO) determines the order in which the parent classes are searched for a method. The MRO is determined by a linearization of the inheritance hierarchy and is used to resolve method name conflicts between multiple parent classes.\n",
    "\n",
    "\n",
    "* The MRO in Python follows the C3 linearization algorithm, which gives priority to the leftmost parent class in the inheritance hierarchy. This means that if class C inherits from class A before class B (i.e., class C(A, B)), then the version of func() defined in class A will be invoked."
   ]
  },
  {
   "cell_type": "markdown",
   "id": "63e41498",
   "metadata": {},
   "source": [
    "##### Q33. Which methods/functions do we use to determine the type of instance and inheritance?\n",
    "\n",
    "    \n",
    "###### ANS :\n"
   ]
  },
  {
   "cell_type": "markdown",
   "id": "790d0d74",
   "metadata": {},
   "source": [
    "* type: The built-in type function returns the type of an object. For example, type(x) returns the type of x.\n",
    "\n",
    "\n",
    "* isinstance: The built-in isinstance function checks if an object is an instance of a particular class or a subclass of that class. For example, isinstance(x, MyClass) returns True if x is an instance of MyClass or a subclass of MyClass.\n",
    "\n",
    "\n",
    "* issubclass: The built-in issubclass function checks if a class is a subclass of another class. For example, issubclass(MySubClass, MyClass) returns True if MySubClass is a subclass of MyClass.\n",
    "\n",
    "\n",
    "* class attribute: Every instance in Python has a class attribute that stores the type of the instance. For example, x.class returns the type of x."
   ]
  },
  {
   "cell_type": "markdown",
   "id": "193cc86a",
   "metadata": {},
   "source": [
    "##### Q34.Explain the use of the 'nonlocal' keyword in Python.\n",
    "\n",
    "    \n",
    "###### ANS :\n",
    "\n",
    "\n",
    "* The nonlocal keyword in Python is used to refer to a variable defined in the nearest enclosing scope that is not global. It is used within a nested function to indicate that a variable is not local to the inner function, but is instead defined in the nearest enclosing scope.\n",
    "\n",
    "    def outer_function(): \n",
    "        x = 10 def inner_function(): \n",
    "        nonlocal x x = 20 \n",
    "        inner_function() \n",
    "        print(x)\n",
    "\n",
    "    outer_function()\n",
    "\n",
    "    output - 20\n",
    "\n",
    "\n",
    "* The nonlocal keyword is used to modify variables in an outer scope from within a nested function. Without nonlocal, any assignment to a variable would create a new local variable in the inner function scope, hiding the variable in the outer scope. The nonlocal keyword allows you to modify the value of a variable in the nearest enclosing scope, rather than creating a new local variable with the same name."
   ]
  },
  {
   "cell_type": "markdown",
   "id": "6b94bed8",
   "metadata": {},
   "source": [
    "##### Q35. What is the global keyword?\n",
    "\n",
    "    \n",
    "###### ANS :\n",
    "\n",
    "\n",
    "* The global keyword in Python is used to indicate that a variable is a global variable. A global variable is a variable that is accessible from anywhere in the code, not just within the current function or module.\n",
    "    \n",
    "    x = 10\n",
    "\n",
    "    def my_function(): global x x = 20\n",
    "\n",
    "    my_function() print(x)\n",
    "\n",
    "    output : 20\n",
    "\n",
    "\n",
    "* It's important to use the global keyword carefully, as modifying global variables can make your code harder to understand and maintain. In general, it's better to avoid using global variables and instead pass values as arguments to functions and return values from functions. The global keyword should only be used when necessary, such as when you need to access or modify a global variable within a function."
   ]
  },
  {
   "cell_type": "markdown",
   "id": "c11f5d69",
   "metadata": {},
   "source": [
    "##### ---------------------------------------------------------------------------------------------------------------------------------------------------------------------------------------------------------"
   ]
  },
  {
   "cell_type": "code",
   "execution_count": null,
   "id": "96a0b664",
   "metadata": {},
   "outputs": [],
   "source": []
  }
 ],
 "metadata": {
  "kernelspec": {
   "display_name": "Python 3",
   "language": "python",
   "name": "python3"
  },
  "language_info": {
   "codemirror_mode": {
    "name": "ipython",
    "version": 3
   },
   "file_extension": ".py",
   "mimetype": "text/x-python",
   "name": "python",
   "nbconvert_exporter": "python",
   "pygments_lexer": "ipython3",
   "version": "3.8.8"
  }
 },
 "nbformat": 4,
 "nbformat_minor": 5
}
