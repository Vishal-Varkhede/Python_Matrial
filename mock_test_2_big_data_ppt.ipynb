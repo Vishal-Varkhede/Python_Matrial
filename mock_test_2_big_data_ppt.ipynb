{
 "cells": [
  {
   "cell_type": "markdown",
   "id": "5caa67f0",
   "metadata": {},
   "source": [
    "Q1:"
   ]
  },
  {
   "cell_type": "code",
   "execution_count": null,
   "id": "6b887189",
   "metadata": {},
   "outputs": [],
   "source": [
    "SELECT MAX(Salary) AS SecondHighestSalary\n",
    "FROM Employees\n",
    "WHERE Salary < (SELECT MAX(Salary) FROM Employees);"
   ]
  },
  {
   "cell_type": "markdown",
   "id": "cad3e731",
   "metadata": {},
   "source": [
    "Q2:\n"
   ]
  },
  {
   "cell_type": "code",
   "execution_count": 5,
   "id": "43a2bbc5",
   "metadata": {},
   "outputs": [],
   "source": [
    "from mrjob.job import MRJob\n",
    "import re\n",
    "\n",
    "class WordCount(MRJob):\n",
    "\n",
    "    def mapper(self, _, line):\n",
    "        words = re.findall(r'\\w+', line.lower())\n",
    "        for word in words:\n",
    "            yield word, 1\n",
    "\n",
    "    def reducer(self, key, values):\n",
    "        yield key, sum(values)\n",
    "\n",
    "if __name__ == '_main_':\n",
    "    WordCount.run()"
   ]
  },
  {
   "cell_type": "markdown",
   "id": "7bc1172b",
   "metadata": {},
   "source": [
    "To run this program, save it in a file (e.g., word_count.py) and execute it using the mrjob command:\n",
    "    \n",
    "python word_count.py input.txt"
   ]
  },
  {
   "cell_type": "markdown",
   "id": "720bb05b",
   "metadata": {},
   "source": [
    "Q3:"
   ]
  },
  {
   "cell_type": "markdown",
   "id": "b5c2c425",
   "metadata": {},
   "source": [
    "from pyspark import SparkContext\n",
    "\n",
    "sc = SparkContext(\"local\", \"Word Count\")\n",
    "\n",
    "lines = sc.textFile(\"input.txt\")\n",
    "words = lines.flatMap(lambda line: line.split(\" \"))\n",
    "\n",
    "\n",
    "word_counts = words.map(lambda word: (word, 1))\n",
    "\n",
    "\n",
    "word_counts = word_counts.reduceByKey(lambda a, b: a + b)\n",
    "\n",
    "\n",
    "for word, count in word_counts.collect():\n",
    "    print(f\"{word}: {count}\")\n",
    "\n",
    "\n",
    "sc.stop()"
   ]
  },
  {
   "cell_type": "code",
   "execution_count": null,
   "id": "5f766f08",
   "metadata": {},
   "outputs": [],
   "source": [
    "To run this program, save it in a file (e.g., word_count.py) and execute it umsing spark-submit:"
   ]
  },
  {
   "cell_type": "markdown",
   "id": "f74d6eb1",
   "metadata": {},
   "source": [
    "spark-submit word_count.py"
   ]
  },
  {
   "cell_type": "code",
   "execution_count": null,
   "id": "8ebc8d61",
   "metadata": {},
   "outputs": [],
   "source": []
  }
 ],
 "metadata": {
  "kernelspec": {
   "display_name": "Python 3",
   "language": "python",
   "name": "python3"
  },
  "language_info": {
   "codemirror_mode": {
    "name": "ipython",
    "version": 3
   },
   "file_extension": ".py",
   "mimetype": "text/x-python",
   "name": "python",
   "nbconvert_exporter": "python",
   "pygments_lexer": "ipython3",
   "version": "3.8.8"
  }
 },
 "nbformat": 4,
 "nbformat_minor": 5
}
